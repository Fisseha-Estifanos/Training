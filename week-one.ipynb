{
 "cells": [
  {
   "cell_type": "markdown",
   "id": "b3f3c077",
   "metadata": {
    "papermill": {
     "duration": 0.033367,
     "end_time": "2022-03-08T14:51:53.169718",
     "exception": false,
     "start_time": "2022-03-08T14:51:53.136351",
     "status": "completed"
    },
    "tags": []
   },
   "source": [
    "# Task One"
   ]
  },
  {
   "cell_type": "code",
   "execution_count": 1,
   "id": "a4c8f0b6",
   "metadata": {
    "execution": {
     "iopub.execute_input": "2022-03-08T14:51:53.225421Z",
     "iopub.status.busy": "2022-03-08T14:51:53.224236Z",
     "iopub.status.idle": "2022-03-08T14:51:55.080128Z",
     "shell.execute_reply": "2022-03-08T14:51:55.080690Z",
     "shell.execute_reply.started": "2022-03-08T14:42:19.000264Z"
    },
    "papermill": {
     "duration": 1.883452,
     "end_time": "2022-03-08T14:51:55.081071",
     "exception": false,
     "start_time": "2022-03-08T14:51:53.197619",
     "status": "completed"
    },
    "tags": []
   },
   "outputs": [
    {
     "name": "stdout",
     "output_type": "stream",
     "text": [
      "/kaggle/input/maindata/week-2-data.csv\n",
      "<class 'pandas.core.frame.DataFrame'>\n",
      "RangeIndex: 150001 entries, 0 to 150000\n",
      "Data columns (total 55 columns):\n",
      " #   Column                                    Non-Null Count   Dtype  \n",
      "---  ------                                    --------------   -----  \n",
      " 0   Bearer Id                                 149010 non-null  float64\n",
      " 1   Start                                     150000 non-null  object \n",
      " 2   Start ms                                  150000 non-null  float64\n",
      " 3   End                                       150000 non-null  object \n",
      " 4   End ms                                    150000 non-null  float64\n",
      " 5   Dur. (ms)                                 150000 non-null  float64\n",
      " 6   IMSI                                      149431 non-null  float64\n",
      " 7   MSISDN/Number                             148935 non-null  float64\n",
      " 8   IMEI                                      149429 non-null  float64\n",
      " 9   Last Location Name                        148848 non-null  object \n",
      " 10  Avg RTT DL (ms)                           122172 non-null  float64\n",
      " 11  Avg RTT UL (ms)                           122189 non-null  float64\n",
      " 12  Avg Bearer TP DL (kbps)                   150000 non-null  float64\n",
      " 13  Avg Bearer TP UL (kbps)                   150000 non-null  float64\n",
      " 14  TCP DL Retrans. Vol (Bytes)               61855 non-null   float64\n",
      " 15  TCP UL Retrans. Vol (Bytes)               53352 non-null   float64\n",
      " 16  DL TP < 50 Kbps (%)                       149247 non-null  float64\n",
      " 17  50 Kbps < DL TP < 250 Kbps (%)            149247 non-null  float64\n",
      " 18  250 Kbps < DL TP < 1 Mbps (%)             149247 non-null  float64\n",
      " 19  DL TP > 1 Mbps (%)                        149247 non-null  float64\n",
      " 20  UL TP < 10 Kbps (%)                       149209 non-null  float64\n",
      " 21  10 Kbps < UL TP < 50 Kbps (%)             149209 non-null  float64\n",
      " 22  50 Kbps < UL TP < 300 Kbps (%)            149209 non-null  float64\n",
      " 23  UL TP > 300 Kbps (%)                      149209 non-null  float64\n",
      " 24  HTTP DL (Bytes)                           68527 non-null   float64\n",
      " 25  HTTP UL (Bytes)                           68191 non-null   float64\n",
      " 26  Activity Duration DL (ms)                 150000 non-null  float64\n",
      " 27  Activity Duration UL (ms)                 150000 non-null  float64\n",
      " 28  Dur. (ms).1                               150000 non-null  float64\n",
      " 29  Handset Manufacturer                      149429 non-null  object \n",
      " 30  Handset Type                              149429 non-null  object \n",
      " 31  Nb of sec with 125000B < Vol DL           52463 non-null   float64\n",
      " 32  Nb of sec with 1250B < Vol UL < 6250B     57107 non-null   float64\n",
      " 33  Nb of sec with 31250B < Vol DL < 125000B  56415 non-null   float64\n",
      " 34  Nb of sec with 37500B < Vol UL            19747 non-null   float64\n",
      " 35  Nb of sec with 6250B < Vol DL < 31250B    61684 non-null   float64\n",
      " 36  Nb of sec with 6250B < Vol UL < 37500B    38158 non-null   float64\n",
      " 37  Nb of sec with Vol DL < 6250B             149246 non-null  float64\n",
      " 38  Nb of sec with Vol UL < 1250B             149208 non-null  float64\n",
      " 39  Social Media DL (Bytes)                   150001 non-null  float64\n",
      " 40  Social Media UL (Bytes)                   150001 non-null  float64\n",
      " 41  Google DL (Bytes)                         150001 non-null  float64\n",
      " 42  Google UL (Bytes)                         150001 non-null  float64\n",
      " 43  Email DL (Bytes)                          150001 non-null  float64\n",
      " 44  Email UL (Bytes)                          150001 non-null  float64\n",
      " 45  Youtube DL (Bytes)                        150001 non-null  float64\n",
      " 46  Youtube UL (Bytes)                        150001 non-null  float64\n",
      " 47  Netflix DL (Bytes)                        150001 non-null  float64\n",
      " 48  Netflix UL (Bytes)                        150001 non-null  float64\n",
      " 49  Gaming DL (Bytes)                         150001 non-null  float64\n",
      " 50  Gaming UL (Bytes)                         150001 non-null  float64\n",
      " 51  Other DL (Bytes)                          150001 non-null  float64\n",
      " 52  Other UL (Bytes)                          150001 non-null  float64\n",
      " 53  Total UL (Bytes)                          150000 non-null  float64\n",
      " 54  Total DL (Bytes)                          150000 non-null  float64\n",
      "dtypes: float64(50), object(5)\n",
      "memory usage: 62.9+ MB\n"
     ]
    }
   ],
   "source": [
    "import numpy as np # linear algebra\n",
    "import pandas as pd # data processing, CSV file I/O (e.g. pd.read_csv)\n",
    "import os # os operations\n",
    "\n",
    "# printing files in working directories\n",
    "for dirname, _, filenames in os.walk('/kaggle/input'): \n",
    "    for filename in filenames:\n",
    "        print(os.path.join(dirname, filename))\n",
    "\n",
    "# read the main data\n",
    "data = pd.read_csv(\"../input/maindata/week-2-data.csv\") \n",
    "\n",
    "# display some information about the data\n",
    "data.info() "
   ]
  },
  {
   "cell_type": "code",
   "execution_count": 2,
   "id": "3758a0a5",
   "metadata": {
    "execution": {
     "iopub.execute_input": "2022-03-08T14:51:55.140883Z",
     "iopub.status.busy": "2022-03-08T14:51:55.132718Z",
     "iopub.status.idle": "2022-03-08T14:51:55.162183Z",
     "shell.execute_reply": "2022-03-08T14:51:55.162685Z",
     "shell.execute_reply.started": "2022-03-08T14:42:20.937605Z"
    },
    "papermill": {
     "duration": 0.056839,
     "end_time": "2022-03-08T14:51:55.162859",
     "exception": false,
     "start_time": "2022-03-08T14:51:55.106020",
     "status": "completed"
    },
    "tags": []
   },
   "outputs": [
    {
     "data": {
      "text/html": [
       "<div>\n",
       "<style scoped>\n",
       "    .dataframe tbody tr th:only-of-type {\n",
       "        vertical-align: middle;\n",
       "    }\n",
       "\n",
       "    .dataframe tbody tr th {\n",
       "        vertical-align: top;\n",
       "    }\n",
       "\n",
       "    .dataframe thead th {\n",
       "        text-align: right;\n",
       "    }\n",
       "</style>\n",
       "<table border=\"1\" class=\"dataframe\">\n",
       "  <thead>\n",
       "    <tr style=\"text-align: right;\">\n",
       "      <th></th>\n",
       "      <th>DL TP &gt; 1 Mbps (%)</th>\n",
       "      <th>10 Kbps &lt; UL TP &lt; 50 Kbps (%)</th>\n",
       "      <th>50 Kbps &lt; UL TP &lt; 300 Kbps (%)</th>\n",
       "      <th>UL TP &gt; 300 Kbps (%)</th>\n",
       "    </tr>\n",
       "  </thead>\n",
       "  <tbody>\n",
       "    <tr>\n",
       "      <th>0</th>\n",
       "      <td>0.0</td>\n",
       "      <td>0.0</td>\n",
       "      <td>0.0</td>\n",
       "      <td>0.0</td>\n",
       "    </tr>\n",
       "    <tr>\n",
       "      <th>1</th>\n",
       "      <td>0.0</td>\n",
       "      <td>0.0</td>\n",
       "      <td>0.0</td>\n",
       "      <td>0.0</td>\n",
       "    </tr>\n",
       "    <tr>\n",
       "      <th>2</th>\n",
       "      <td>0.0</td>\n",
       "      <td>0.0</td>\n",
       "      <td>0.0</td>\n",
       "      <td>0.0</td>\n",
       "    </tr>\n",
       "    <tr>\n",
       "      <th>3</th>\n",
       "      <td>0.0</td>\n",
       "      <td>0.0</td>\n",
       "      <td>0.0</td>\n",
       "      <td>0.0</td>\n",
       "    </tr>\n",
       "    <tr>\n",
       "      <th>4</th>\n",
       "      <td>0.0</td>\n",
       "      <td>0.0</td>\n",
       "      <td>0.0</td>\n",
       "      <td>0.0</td>\n",
       "    </tr>\n",
       "    <tr>\n",
       "      <th>...</th>\n",
       "      <td>...</td>\n",
       "      <td>...</td>\n",
       "      <td>...</td>\n",
       "      <td>...</td>\n",
       "    </tr>\n",
       "    <tr>\n",
       "      <th>149996</th>\n",
       "      <td>0.0</td>\n",
       "      <td>0.0</td>\n",
       "      <td>0.0</td>\n",
       "      <td>0.0</td>\n",
       "    </tr>\n",
       "    <tr>\n",
       "      <th>149997</th>\n",
       "      <td>0.0</td>\n",
       "      <td>0.0</td>\n",
       "      <td>0.0</td>\n",
       "      <td>0.0</td>\n",
       "    </tr>\n",
       "    <tr>\n",
       "      <th>149998</th>\n",
       "      <td>0.0</td>\n",
       "      <td>0.0</td>\n",
       "      <td>0.0</td>\n",
       "      <td>0.0</td>\n",
       "    </tr>\n",
       "    <tr>\n",
       "      <th>149999</th>\n",
       "      <td>0.0</td>\n",
       "      <td>0.0</td>\n",
       "      <td>0.0</td>\n",
       "      <td>0.0</td>\n",
       "    </tr>\n",
       "    <tr>\n",
       "      <th>150000</th>\n",
       "      <td>NaN</td>\n",
       "      <td>NaN</td>\n",
       "      <td>NaN</td>\n",
       "      <td>NaN</td>\n",
       "    </tr>\n",
       "  </tbody>\n",
       "</table>\n",
       "<p>150001 rows × 4 columns</p>\n",
       "</div>"
      ],
      "text/plain": [
       "        DL TP > 1 Mbps (%)  10 Kbps < UL TP < 50 Kbps (%)  \\\n",
       "0                      0.0                            0.0   \n",
       "1                      0.0                            0.0   \n",
       "2                      0.0                            0.0   \n",
       "3                      0.0                            0.0   \n",
       "4                      0.0                            0.0   \n",
       "...                    ...                            ...   \n",
       "149996                 0.0                            0.0   \n",
       "149997                 0.0                            0.0   \n",
       "149998                 0.0                            0.0   \n",
       "149999                 0.0                            0.0   \n",
       "150000                 NaN                            NaN   \n",
       "\n",
       "        50 Kbps < UL TP < 300 Kbps (%)  UL TP > 300 Kbps (%)  \n",
       "0                                  0.0                   0.0  \n",
       "1                                  0.0                   0.0  \n",
       "2                                  0.0                   0.0  \n",
       "3                                  0.0                   0.0  \n",
       "4                                  0.0                   0.0  \n",
       "...                                ...                   ...  \n",
       "149996                             0.0                   0.0  \n",
       "149997                             0.0                   0.0  \n",
       "149998                             0.0                   0.0  \n",
       "149999                             0.0                   0.0  \n",
       "150000                             NaN                   NaN  \n",
       "\n",
       "[150001 rows x 4 columns]"
      ]
     },
     "execution_count": 2,
     "metadata": {},
     "output_type": "execute_result"
    }
   ],
   "source": [
    "data[['DL TP > 1 Mbps (%)', '10 Kbps < UL TP < 50 Kbps (%)', '50 Kbps < UL TP < 300 Kbps (%)', 'UL TP > 300 Kbps (%)']]"
   ]
  },
  {
   "cell_type": "markdown",
   "id": "c8911b80",
   "metadata": {
    "papermill": {
     "duration": 0.023815,
     "end_time": "2022-03-08T14:51:55.211214",
     "exception": false,
     "start_time": "2022-03-08T14:51:55.187399",
     "status": "completed"
    },
    "tags": []
   },
   "source": [
    "**Start by identifying the top 10 handsets used by the customers**"
   ]
  },
  {
   "cell_type": "code",
   "execution_count": 3,
   "id": "2e5bd19f",
   "metadata": {
    "execution": {
     "iopub.execute_input": "2022-03-08T14:51:55.263249Z",
     "iopub.status.busy": "2022-03-08T14:51:55.262599Z",
     "iopub.status.idle": "2022-03-08T14:51:55.299034Z",
     "shell.execute_reply": "2022-03-08T14:51:55.298322Z",
     "shell.execute_reply.started": "2022-03-08T14:42:20.970465Z"
    },
    "papermill": {
     "duration": 0.063845,
     "end_time": "2022-03-08T14:51:55.299179",
     "exception": false,
     "start_time": "2022-03-08T14:51:55.235334",
     "status": "completed"
    },
    "tags": []
   },
   "outputs": [
    {
     "data": {
      "text/plain": [
       "Huawei B528S-23A                19752\n",
       "Apple iPhone 6S (A1688)          9419\n",
       "Apple iPhone 6 (A1586)           9023\n",
       "undefined                        8987\n",
       "Apple iPhone 7 (A1778)           6326\n",
       "Apple iPhone Se (A1723)          5187\n",
       "Apple iPhone 8 (A1905)           4993\n",
       "Apple iPhone Xr (A2105)          4568\n",
       "Samsung Galaxy S8 (Sm-G950F)     4520\n",
       "Apple iPhone X (A1901)           3813\n",
       "Name: Handset Type, dtype: int64"
      ]
     },
     "execution_count": 3,
     "metadata": {},
     "output_type": "execute_result"
    }
   ],
   "source": [
    "# get the top 10 handsets used by customers using the value_counts() function of a dataframe\n",
    "# combined with the nlatgest() function on the 'Handset Type' feature.\n",
    "data['Handset Type'].value_counts().nlargest(n=10)"
   ]
  },
  {
   "cell_type": "markdown",
   "id": "bb4b31ef",
   "metadata": {
    "papermill": {
     "duration": 0.024136,
     "end_time": "2022-03-08T14:51:55.348195",
     "exception": false,
     "start_time": "2022-03-08T14:51:55.324059",
     "status": "completed"
    },
    "tags": []
   },
   "source": [
    "**Then, identify the top 3 handset manufacturers**"
   ]
  },
  {
   "cell_type": "code",
   "execution_count": 4,
   "id": "302d0285",
   "metadata": {
    "execution": {
     "iopub.execute_input": "2022-03-08T14:51:55.429449Z",
     "iopub.status.busy": "2022-03-08T14:51:55.428563Z",
     "iopub.status.idle": "2022-03-08T14:51:55.432816Z",
     "shell.execute_reply": "2022-03-08T14:51:55.432178Z",
     "shell.execute_reply.started": "2022-03-08T14:42:21.010684Z"
    },
    "papermill": {
     "duration": 0.060181,
     "end_time": "2022-03-08T14:51:55.432988",
     "exception": false,
     "start_time": "2022-03-08T14:51:55.372807",
     "status": "completed"
    },
    "tags": []
   },
   "outputs": [
    {
     "data": {
      "text/plain": [
       "Apple      59565\n",
       "Samsung    40839\n",
       "Huawei     34423\n",
       "Name: Handset Manufacturer, dtype: int64"
      ]
     },
     "execution_count": 4,
     "metadata": {},
     "output_type": "execute_result"
    }
   ],
   "source": [
    "# get the top 3 handset manufacturers using the value_counts() function of a dataframe\n",
    "# combined with the nlatgest() function on the 'Handset Manufacturer' feature.\n",
    "data['Handset Manufacturer'].value_counts().nlargest(n=3)"
   ]
  },
  {
   "cell_type": "markdown",
   "id": "1f2b1ef2",
   "metadata": {
    "papermill": {
     "duration": 0.024819,
     "end_time": "2022-03-08T14:51:55.483686",
     "exception": false,
     "start_time": "2022-03-08T14:51:55.458867",
     "status": "completed"
    },
    "tags": []
   },
   "source": [
    "**Next, identify the top 5 handsets per top 3 handset manufacturer**"
   ]
  },
  {
   "cell_type": "code",
   "execution_count": 5,
   "id": "be59d581",
   "metadata": {
    "execution": {
     "iopub.execute_input": "2022-03-08T14:51:55.567761Z",
     "iopub.status.busy": "2022-03-08T14:51:55.567080Z",
     "iopub.status.idle": "2022-03-08T14:51:55.696813Z",
     "shell.execute_reply": "2022-03-08T14:51:55.695587Z",
     "shell.execute_reply.started": "2022-03-08T14:42:21.043800Z"
    },
    "papermill": {
     "duration": 0.186172,
     "end_time": "2022-03-08T14:51:55.697036",
     "exception": false,
     "start_time": "2022-03-08T14:51:55.510864",
     "status": "completed"
    },
    "tags": []
   },
   "outputs": [
    {
     "name": "stdout",
     "output_type": "stream",
     "text": [
      "Top 5 apple headset types\n",
      " Handset Type           \n",
      "Apple iPhone 6S (A1688)    9419\n",
      "Apple iPhone 6 (A1586)     9023\n",
      "Apple iPhone 7 (A1778)     6326\n",
      "Apple iPhone Se (A1723)    5187\n",
      "Apple iPhone 8 (A1905)     4993\n",
      "dtype: int64 \n",
      "\n",
      "Top 5 samsung headset types\n",
      " Handset Type                \n",
      "Samsung Galaxy S8 (Sm-G950F)    4520\n",
      "Samsung Galaxy A5 Sm-A520F      3724\n",
      "Samsung Galaxy J5 (Sm-J530)     3696\n",
      "Samsung Galaxy J3 (Sm-J330)     3484\n",
      "Samsung Galaxy S7 (Sm-G930X)    3199\n",
      "dtype: int64 \n",
      "\n",
      "Top 5 huawei headset types\n",
      " Handset Type                  \n",
      "Huawei B528S-23A                  19752\n",
      "Huawei E5180                       2079\n",
      "Huawei P20 Lite Huawei Nova 3E     2021\n",
      "Huawei P20                         1480\n",
      "Huawei Y6 2018                      997\n",
      "dtype: int64 \n",
      "\n"
     ]
    }
   ],
   "source": [
    "# first we will get the all the 'Handset type' data of the top 3 hanset manufacturers\n",
    "apple_manufacturer = data.loc[data['Handset Manufacturer'] == 'Apple', ['Handset Type']]\n",
    "samsung_manufacturer = data.loc[data['Handset Manufacturer'] == 'Samsung', ['Handset Type']]\n",
    "huawei_manufacturer = data.loc[data['Handset Manufacturer'] == 'Huawei', ['Handset Type']]\n",
    "\n",
    "# then we will use the value_counts() function combined with the nlargest() function on \n",
    "# the above data to get the top 5 handsets those top 3 manufacturers make. \n",
    "print(\"Top 5 apple headset types\\n\", apple_manufacturer.value_counts().nlargest(5), \"\\n\")\n",
    "print(\"Top 5 samsung headset types\\n\", samsung_manufacturer.value_counts().nlargest(5), \"\\n\")\n",
    "print(\"Top 5 huawei headset types\\n\", huawei_manufacturer.value_counts().nlargest(5), \"\\n\")"
   ]
  },
  {
   "cell_type": "markdown",
   "id": "aa3f186e",
   "metadata": {
    "papermill": {
     "duration": 0.025155,
     "end_time": "2022-03-08T14:51:55.748289",
     "exception": false,
     "start_time": "2022-03-08T14:51:55.723134",
     "status": "completed"
    },
    "tags": []
   },
   "source": [
    "**Make a short interpretation and recommendation to marketing teams**"
   ]
  },
  {
   "cell_type": "markdown",
   "id": "1851f553",
   "metadata": {
    "papermill": {
     "duration": 0.025238,
     "end_time": "2022-03-08T14:51:55.799615",
     "exception": false,
     "start_time": "2022-03-08T14:51:55.774377",
     "status": "completed"
    },
    "tags": []
   },
   "source": [
    "***Interpretations***\n",
    "\n",
    "* As we can clearly see from the data, from the top 10 headsets used by customers, 7 of them are Apples products. And eventhough top of this list is Huaweis specific headset product 'Huawei B528S-23A', when we see the combined number of headset products used by customers, Apple is leading. And Samsung is following with Huawei being the third.\n",
    "\n",
    "* And eventhoug number nine on the list is a samsung product. Considering the total number of headsets made, samsung is the second headset producers.\n",
    "\n",
    "* Shockingly number 4 on the list is undefined, which is a little bit anoying since its one of the hotest spots on the top 10 headsets used by customers.\n",
    "\n",
    "***Recomendations***\n",
    "\n",
    "* [For Apple] Its better to incorporate the specific huawei products' ability to the Apple headset products in order to increase Apple headsets products power and usage by our customers.\n",
    "\n",
    "* We need to consider marketing our telecom to Huawei and Samsung product customers, because most of our customers are Apple product users.\n",
    "\n",
    "* We need to get the undefined products names for further analysis."
   ]
  },
  {
   "cell_type": "markdown",
   "id": "34bbe042",
   "metadata": {
    "papermill": {
     "duration": 0.02611,
     "end_time": "2022-03-08T14:51:55.851369",
     "exception": false,
     "start_time": "2022-03-08T14:51:55.825259",
     "status": "completed"
    },
    "tags": []
   },
   "source": [
    "**Task 1.1 - Aggregate per user the following information in the column**\n",
    "* ***number of xDR sessions***\n",
    "* ***Session duration***\n",
    "* ***the total download (DL) and upload (UL) data***\n",
    "* ***the total data volume (in Bytes) during this session for each application***\n",
    "\n"
   ]
  },
  {
   "cell_type": "code",
   "execution_count": 6,
   "id": "d83f9fb1",
   "metadata": {
    "execution": {
     "iopub.execute_input": "2022-03-08T14:51:55.906976Z",
     "iopub.status.busy": "2022-03-08T14:51:55.906252Z",
     "iopub.status.idle": "2022-03-08T14:51:55.909612Z",
     "shell.execute_reply": "2022-03-08T14:51:55.910149Z",
     "shell.execute_reply.started": "2022-03-08T14:42:21.206128Z"
    },
    "papermill": {
     "duration": 0.032537,
     "end_time": "2022-03-08T14:51:55.910333",
     "exception": false,
     "start_time": "2022-03-08T14:51:55.877796",
     "status": "completed"
    },
    "tags": []
   },
   "outputs": [],
   "source": [
    "#print(data['Bearer Id'].value_counts()) #9\n",
    "#print(data['IMSI'].value_counts()) #8\n",
    "#print(data['MSISDN/Number'].value_counts()) #106856\n",
    "#print(data['IMEI'].value_counts()) #3852\n",
    "\n",
    "#print(data['Bearer Id'].value_counts().sum()) # 149010\n",
    "#print(data['IMSI'].value_counts().sum()) #149431\n",
    "#print(data['MSISDN/Number'].value_counts().sum()) #148935\n",
    "#print(data['IMEI'].value_counts().sum()) #149429"
   ]
  },
  {
   "cell_type": "code",
   "execution_count": 7,
   "id": "867fd319",
   "metadata": {
    "execution": {
     "iopub.execute_input": "2022-03-08T14:51:55.964965Z",
     "iopub.status.busy": "2022-03-08T14:51:55.964206Z",
     "iopub.status.idle": "2022-03-08T14:51:57.587081Z",
     "shell.execute_reply": "2022-03-08T14:51:57.586485Z",
     "shell.execute_reply.started": "2022-03-08T14:42:21.214090Z"
    },
    "papermill": {
     "duration": 1.651249,
     "end_time": "2022-03-08T14:51:57.587243",
     "exception": false,
     "start_time": "2022-03-08T14:51:55.935994",
     "status": "completed"
    },
    "tags": []
   },
   "outputs": [
    {
     "name": "stdout",
     "output_type": "stream",
     "text": [
      "---> Int. Mobile Subsciber Identity - 208202000000000.0\n",
      "---> Agg. # of xDr sessions [83800]\n",
      "---> Agg. # of session duration [8.68065453e+09]\n",
      "---> Agg. # of tot. DL data [3.82320682e+13]\n",
      "---> Agg. # of tot. UL data [3.45258275e+12]\n",
      "---> Agg. # of tot. data volume (in Bytes) - Social Media [1.53764314e+11]\n",
      "\t---> Social Media DL (in Bytes) [1.51002556e+11]\n",
      "\t---> Social Media UL (in Bytes) [2.7617585e+09]\n",
      "--->Agg. # of tot. data volume (in Bytes) - YouTube [1.9029174e+12]\n",
      "\t---> YouTube DL (in Bytes) [9.76583063e+11]\n",
      "\t---> YouTube UL (in Bytes) [9.26334334e+11]\n",
      "--->Agg. # of tot. data volume (in Bytes) - Netflix [1.90190906e+12]\n",
      "\t---> Netflix DL (in Bytes) [9.77969121e+11]\n",
      "\t---> Netflix UL (in Bytes) [9.23939938e+11]\n",
      "--->Agg. # of tot. data volume (in Bytes) - Google [6.56018784e+11]\n",
      "\t---> Google DL (in Bytes) [4.83205911e+11]\n",
      "\t---> Google UL (in Bytes) [1.72812873e+11]\n",
      "--->Agg. # of tot. data volume (in Bytes) - Email [1.89673624e+11]\n",
      "\t---> Email DL (in Bytes) [1.50386197e+11]\n",
      "\t---> Email UL (in Bytes) [3.92874272e+10]\n",
      "--->Agg. # of tot. data volume (in Bytes) - Gaming [3.61870263e+13]\n",
      "\t---> Gaming DL (in Bytes) [3.54929214e+13]\n",
      "\t---> Gaming UL (in Bytes) [6.94104943e+11]\n",
      "--->Agg. # of tot. data volume (in Bytes) - Other [3.61601774e+13]\n",
      "\t---> Other DL (in Bytes) [3.5466836e+13]\n",
      "\t---> Other UL (in Bytes) [6.93341479e+11]\n",
      "\n",
      "\n",
      "---> Int. Mobile Subsciber Identity - 208201000000000.0\n",
      "---> Agg. # of xDr sessions [52195]\n",
      "---> Agg. # of session duration [5.56256783e+09]\n",
      "---> Agg. # of tot. DL data [2.37657703e+13]\n",
      "---> Agg. # of tot. UL data [2.15562857e+12]\n",
      "---> Agg. # of tot. data volume (in Bytes) - Social Media [9.56039412e+10]\n",
      "\t---> Social Media DL (in Bytes) [9.38763641e+10]\n",
      "\t---> Social Media UL (in Bytes) [1.72757716e+09]\n",
      "--->Agg. # of tot. data volume (in Bytes) - YouTube [1.18591529e+12]\n",
      "\t---> YouTube DL (in Bytes) [6.09919401e+11]\n",
      "\t---> YouTube UL (in Bytes) [5.75995891e+11]\n",
      "--->Agg. # of tot. data volume (in Bytes) - Netflix [1.18413395e+12]\n",
      "\t---> Netflix DL (in Bytes) [6.07862738e+11]\n",
      "\t---> Netflix UL (in Bytes) [5.76271207e+11]\n",
      "--->Agg. # of tot. data volume (in Bytes) - Google [4.08630628e+11]\n",
      "\t---> Google DL (in Bytes) [3.00940468e+11]\n",
      "\t---> Google UL (in Bytes) [1.07690159e+11]\n",
      "--->Agg. # of tot. data volume (in Bytes) - Email [1.18339679e+11]\n",
      "\t---> Email DL (in Bytes) [9.38804936e+10]\n",
      "\t---> Email UL (in Bytes) [2.44591854e+10]\n",
      "--->Agg. # of tot. data volume (in Bytes) - Gaming [2.24957385e+13]\n",
      "\t---> Gaming DL (in Bytes) [2.20592908e+13]\n",
      "\t---> Gaming UL (in Bytes) [4.36447694e+11]\n",
      "--->Agg. # of tot. data volume (in Bytes) - Other [2.24250273e+13]\n",
      "\t---> Other DL (in Bytes) [2.19919904e+13]\n",
      "\t---> Other UL (in Bytes) [4.33036855e+11]\n",
      "\n",
      "\n",
      "---> Int. Mobile Subsciber Identity - 208200000000000.0\n",
      "---> Agg. # of xDr sessions [9537]\n",
      "---> Agg. # of session duration [9.81085482e+08]\n",
      "---> Agg. # of tot. DL data [4.33735985e+12]\n",
      "---> Agg. # of tot. UL data [3.9367585e+11]\n",
      "---> Agg. # of tot. data volume (in Bytes) - Social Media [1.7453655e+10]\n",
      "\t---> Social Media DL (in Bytes) [1.71360178e+10]\n",
      "\t---> Social Media UL (in Bytes) [3.17637145e+08]\n",
      "--->Agg. # of tot. data volume (in Bytes) - YouTube [2.15707898e+11]\n",
      "\t---> YouTube DL (in Bytes) [1.11444476e+11]\n",
      "\t---> YouTube UL (in Bytes) [1.04263421e+11]\n",
      "--->Agg. # of tot. data volume (in Bytes) - Netflix [2.16453975e+11]\n",
      "\t---> Netflix DL (in Bytes) [1.10620339e+11]\n",
      "\t---> Netflix UL (in Bytes) [1.05833636e+11]\n",
      "--->Agg. # of tot. data volume (in Bytes) - Google [7.50692115e+10]\n",
      "\t---> Google DL (in Bytes) [5.5434731e+10]\n",
      "\t---> Google UL (in Bytes) [1.96344805e+10]\n",
      "--->Agg. # of tot. data volume (in Bytes) - Email [2.17781e+10]\n",
      "\t---> Email DL (in Bytes) [1.73012381e+10]\n",
      "\t---> Email UL (in Bytes) [4.47686186e+09]\n",
      "--->Agg. # of tot. data volume (in Bytes) - Gaming [4.10482481e+12]\n",
      "\t---> Gaming DL (in Bytes) [4.02542305e+12]\n",
      "\t---> Gaming UL (in Bytes) [7.94017561e+10]\n",
      "--->Agg. # of tot. data volume (in Bytes) - Other [4.09875505e+12]\n",
      "\t---> Other DL (in Bytes) [4.019007e+12]\n",
      "\t---> Other UL (in Bytes) [7.97480571e+10]\n",
      "\n",
      "\n",
      "---> Int. Mobile Subsciber Identity - 208210000000000.0\n",
      "---> Agg. # of xDr sessions [3465]\n",
      "---> Agg. # of session duration [4.27438132e+08]\n",
      "---> Agg. # of tot. DL data [1.6015887e+12]\n",
      "---> Agg. # of tot. UL data [1.42587422e+11]\n",
      "---> Agg. # of tot. data volume (in Bytes) - Social Media [6.35896047e+09]\n",
      "\t---> Social Media DL (in Bytes) [6.24606872e+09]\n",
      "\t---> Social Media UL (in Bytes) [1.12891749e+08]\n",
      "--->Agg. # of tot. data volume (in Bytes) - YouTube [7.88027582e+10]\n",
      "\t---> YouTube DL (in Bytes) [4.02631846e+10]\n",
      "\t---> YouTube UL (in Bytes) [3.85395736e+10]\n",
      "--->Agg. # of tot. data volume (in Bytes) - Netflix [7.86014603e+10]\n",
      "\t---> Netflix DL (in Bytes) [4.08097936e+10]\n",
      "\t---> Netflix UL (in Bytes) [3.77916667e+10]\n",
      "--->Agg. # of tot. data volume (in Bytes) - Google [2.69733818e+10]\n",
      "\t---> Google DL (in Bytes) [1.98159003e+10]\n",
      "\t---> Google UL (in Bytes) [7.1574815e+09]\n",
      "--->Agg. # of tot. data volume (in Bytes) - Email [7.7660819e+09]\n",
      "\t---> Email DL (in Bytes) [6.14754029e+09]\n",
      "\t---> Email UL (in Bytes) [1.61854162e+09]\n",
      "--->Agg. # of tot. data volume (in Bytes) - Gaming [1.51699669e+12]\n",
      "\t---> Gaming DL (in Bytes) [1.48830622e+12]\n",
      "\t---> Gaming UL (in Bytes) [2.86904768e+10]\n",
      "--->Agg. # of tot. data volume (in Bytes) - Other [1.48021884e+12]\n",
      "\t---> Other DL (in Bytes) [1.45154205e+12]\n",
      "\t---> Other UL (in Bytes) [2.86767898e+10]\n",
      "\n",
      "\n",
      "---> Int. Mobile Subsciber Identity - 214074000000000.0\n",
      "---> Agg. # of xDr sessions [1]\n",
      "---> Agg. # of session duration [226790.]\n",
      "---> Agg. # of tot. DL data [6.37123579e+08]\n",
      "---> Agg. # of tot. UL data [57382080.]\n",
      "---> Agg. # of tot. data volume (in Bytes) - Social Media [2316254.]\n",
      "\t---> Social Media DL (in Bytes) [2309742.]\n",
      "\t---> Social Media UL (in Bytes) [6512.]\n",
      "--->Agg. # of tot. data volume (in Bytes) - YouTube [40017722.]\n",
      "\t---> YouTube DL (in Bytes) [19339034.]\n",
      "\t---> YouTube UL (in Bytes) [20678688.]\n",
      "--->Agg. # of tot. data volume (in Bytes) - Netflix [19949230.]\n",
      "\t---> Netflix DL (in Bytes) [2731487.]\n",
      "\t---> Netflix UL (in Bytes) [17217743.]\n",
      "--->Agg. # of tot. data volume (in Bytes) - Google [3059291.]\n",
      "\t---> Google DL (in Bytes) [2567308.]\n",
      "\t---> Google UL (in Bytes) [491983.]\n",
      "--->Agg. # of tot. data volume (in Bytes) - Email [1466516.]\n",
      "\t---> Email DL (in Bytes) [1083819.]\n",
      "\t---> Email UL (in Bytes) [382697.]\n",
      "--->Agg. # of tot. data volume (in Bytes) - Gaming [6.22972742e+08]\n",
      "\t---> Gaming DL (in Bytes) [6.09092189e+08]\n",
      "\t---> Gaming UL (in Bytes) [13880553.]\n",
      "--->Agg. # of tot. data volume (in Bytes) - Other [5.38554653e+08]\n",
      "\t---> Other DL (in Bytes) [5.33830749e+08]\n",
      "\t---> Other UL (in Bytes) [4723904.]\n",
      "\n",
      "\n",
      "---> Int. Mobile Subsciber Identity - 208252000000000.0\n",
      "---> Agg. # of xDr sessions [1]\n",
      "---> Agg. # of session duration [56613.]\n",
      "---> Agg. # of tot. DL data [8.00629358e+08]\n",
      "---> Agg. # of tot. UL data [45083854.]\n",
      "---> Agg. # of tot. data volume (in Bytes) - Social Media [667081.]\n",
      "\t---> Social Media DL (in Bytes) [621586.]\n",
      "\t---> Social Media UL (in Bytes) [45495.]\n",
      "--->Agg. # of tot. data volume (in Bytes) - YouTube [24909498.]\n",
      "\t---> YouTube DL (in Bytes) [12776130.]\n",
      "\t---> YouTube UL (in Bytes) [12133368.]\n",
      "--->Agg. # of tot. data volume (in Bytes) - Netflix [10914208.]\n",
      "\t---> Netflix DL (in Bytes) [9816072.]\n",
      "\t---> Netflix UL (in Bytes) [1098136.]\n",
      "--->Agg. # of tot. data volume (in Bytes) - Google [2227505.]\n",
      "\t---> Google DL (in Bytes) [1208403.]\n",
      "\t---> Google UL (in Bytes) [1019102.]\n",
      "--->Agg. # of tot. data volume (in Bytes) - Email [3054624.]\n",
      "\t---> Email DL (in Bytes) [3023466.]\n",
      "\t---> Email UL (in Bytes) [31158.]\n",
      "--->Agg. # of tot. data volume (in Bytes) - Gaming [7.88569459e+08]\n",
      "\t---> Gaming DL (in Bytes) [7.73183701e+08]\n",
      "\t---> Gaming UL (in Bytes) [15385758.]\n",
      "--->Agg. # of tot. data volume (in Bytes) - Other [5.94480489e+08]\n",
      "\t---> Other DL (in Bytes) [5.79109652e+08]\n",
      "\t---> Other UL (in Bytes) [15370837.]\n",
      "\n",
      "\n",
      "---> Int. Mobile Subsciber Identity - 204081000000000.0\n",
      "---> Agg. # of xDr sessions [1]\n",
      "---> Agg. # of session duration [877385.]\n",
      "---> Agg. # of tot. DL data [1.94828056e+08]\n",
      "---> Agg. # of tot. UL data [37295915.]\n",
      "---> Agg. # of tot. data volume (in Bytes) - Social Media [715224.]\n",
      "\t---> Social Media DL (in Bytes) [668596.]\n",
      "\t---> Social Media UL (in Bytes) [46628.]\n",
      "--->Agg. # of tot. data volume (in Bytes) - YouTube [11959905.]\n",
      "\t---> YouTube DL (in Bytes) [9839889.]\n",
      "\t---> YouTube UL (in Bytes) [2120016.]\n",
      "--->Agg. # of tot. data volume (in Bytes) - Netflix [26592300.]\n",
      "\t---> Netflix DL (in Bytes) [10340908.]\n",
      "\t---> Netflix UL (in Bytes) [16251392.]\n",
      "--->Agg. # of tot. data volume (in Bytes) - Google [10438660.]\n",
      "\t---> Google DL (in Bytes) [8572779.]\n",
      "\t---> Google UL (in Bytes) [1865881.]\n",
      "--->Agg. # of tot. data volume (in Bytes) - Email [1520771.]\n",
      "\t---> Email DL (in Bytes) [842279.]\n",
      "\t---> Email UL (in Bytes) [678492.]\n",
      "--->Agg. # of tot. data volume (in Bytes) - Gaming [1.78048738e+08]\n",
      "\t---> Gaming DL (in Bytes) [1.64563605e+08]\n",
      "\t---> Gaming UL (in Bytes) [13485133.]\n",
      "--->Agg. # of tot. data volume (in Bytes) - Other [4.70526473e+08]\n",
      "\t---> Other DL (in Bytes) [4.676781e+08]\n",
      "\t---> Other UL (in Bytes) [2848373.]\n",
      "\n",
      "\n",
      "---> Int. Mobile Subsciber Identity - 204047000000000.0\n",
      "---> Agg. # of xDr sessions [1]\n",
      "---> Agg. # of session duration [869844.]\n",
      "---> Agg. # of tot. DL data [78697597.]\n",
      "---> Agg. # of tot. UL data [60456049.]\n",
      "---> Agg. # of tot. data volume (in Bytes) - Social Media [1546088.]\n",
      "\t---> Social Media DL (in Bytes) [1500145.]\n",
      "\t---> Social Media UL (in Bytes) [45943.]\n",
      "--->Agg. # of tot. data volume (in Bytes) - YouTube [40940710.]\n",
      "\t---> YouTube DL (in Bytes) [18980320.]\n",
      "\t---> YouTube UL (in Bytes) [21960390.]\n",
      "--->Agg. # of tot. data volume (in Bytes) - Netflix [28846230.]\n",
      "\t---> Netflix DL (in Bytes) [21621336.]\n",
      "\t---> Netflix UL (in Bytes) [7224894.]\n",
      "--->Agg. # of tot. data volume (in Bytes) - Google [9218647.]\n",
      "\t---> Google DL (in Bytes) [5985089.]\n",
      "\t---> Google UL (in Bytes) [3233558.]\n",
      "--->Agg. # of tot. data volume (in Bytes) - Email [3330974.]\n",
      "\t---> Email DL (in Bytes) [2518425.]\n",
      "\t---> Email UL (in Bytes) [812549.]\n",
      "--->Agg. # of tot. data volume (in Bytes) - Gaming [43070260.]\n",
      "\t---> Gaming DL (in Bytes) [28092282.]\n",
      "\t---> Gaming UL (in Bytes) [14977978.]\n",
      "--->Agg. # of tot. data volume (in Bytes) - Other [4.01360457e+08]\n",
      "\t---> Other DL (in Bytes) [3.8915972e+08]\n",
      "\t---> Other UL (in Bytes) [12200737.]\n",
      "\n",
      "\n"
     ]
    }
   ],
   "source": [
    "# aggregate number of xDr sessions, session duration, total DL & UL data & total datavolume during this session for each application \n",
    "# per user\n",
    "for rownumberX in range(data['IMSI'].nunique()):\n",
    "    # users identities based on theier International Mobile Sunbscriber Identity\n",
    "    print('---> Int. Mobile Subsciber Identity -',data['IMSI'].value_counts().index[rownumberX])\n",
    "    \n",
    "    # aggregate number of xDr sessions per user\n",
    "    print('---> Agg. # of xDr sessions',  data.loc[data['IMSI'] == data['IMSI'].value_counts().index[rownumberX], ['Bearer Id']].count().values)\n",
    "    \n",
    "    # aggregate number of session duration per user\n",
    "    print('---> Agg. # of session duration',  data.loc[data['IMSI'] == data['IMSI'].value_counts().index[rownumberX], ['Dur. (ms)']].sum().values)\n",
    "    \n",
    "    # aggregate number of total DL data per user\n",
    "    print('---> Agg. # of tot. DL data', data.loc[data['IMSI'] == data['IMSI'].value_counts().index[rownumberX], ['Total DL (Bytes)']].sum().values)\n",
    "    \n",
    "    # aggregate number of total UL data per user\n",
    "    print('---> Agg. # of tot. UL data', data.loc[data['IMSI'] == data['IMSI'].value_counts().index[rownumberX], ['Total UL (Bytes)']].sum().values)\n",
    "    \n",
    "    # aggregate number of total data volume (in Bytes) during this session for each application\n",
    "    # Social Media (DL + UL)\n",
    "    smdl = data.loc[data['IMSI'] == data['IMSI'].value_counts().index[rownumberX], ['Social Media DL (Bytes)']].sum().values \n",
    "    smul = data.loc[data['IMSI'] == data['IMSI'].value_counts().index[rownumberX], ['Social Media UL (Bytes)']].sum().values\n",
    "    print('---> Agg. # of tot. data volume (in Bytes) - Social Media', smdl + smul)\n",
    "    print('\\t---> Social Media DL (in Bytes)', smdl)\n",
    "    print('\\t---> Social Media UL (in Bytes)', smul)\n",
    "\n",
    "    # YouTube (DL + UL)\n",
    "    ytdl = data.loc[data['IMSI'] == data['IMSI'].value_counts().index[rownumberX], ['Youtube DL (Bytes)']].sum().values \n",
    "    ytul = data.loc[data['IMSI'] == data['IMSI'].value_counts().index[rownumberX], ['Youtube UL (Bytes)']].sum().values\n",
    "    print('--->Agg. # of tot. data volume (in Bytes) - YouTube', ytdl + ytul)\n",
    "    print('\\t---> YouTube DL (in Bytes)', ytdl)\n",
    "    print('\\t---> YouTube UL (in Bytes)', ytul)\n",
    "    \n",
    "    # Netflix (DL + UL)\n",
    "    ndl = data.loc[data['IMSI'] == data['IMSI'].value_counts().index[rownumberX], ['Netflix DL (Bytes)']].sum().values \n",
    "    nul = data.loc[data['IMSI'] == data['IMSI'].value_counts().index[rownumberX], ['Netflix UL (Bytes)']].sum().values\n",
    "    print('--->Agg. # of tot. data volume (in Bytes) - Netflix', ndl + nul)\n",
    "    print('\\t---> Netflix DL (in Bytes)', ndl)\n",
    "    print('\\t---> Netflix UL (in Bytes)', nul)\n",
    "    \n",
    "    # Google (DL + UL)\n",
    "    gdl = data.loc[data['IMSI'] == data['IMSI'].value_counts().index[rownumberX], ['Google DL (Bytes)']].sum().values \n",
    "    gul = data.loc[data['IMSI'] == data['IMSI'].value_counts().index[rownumberX], ['Google UL (Bytes)']].sum().values\n",
    "    print('--->Agg. # of tot. data volume (in Bytes) - Google', gdl + gul)\n",
    "    print('\\t---> Google DL (in Bytes)', gdl)\n",
    "    print('\\t---> Google UL (in Bytes)', gul)\n",
    "    \n",
    "    # Email (DL + UL)\n",
    "    edl = data.loc[data['IMSI'] == data['IMSI'].value_counts().index[rownumberX], ['Email DL (Bytes)']].sum().values \n",
    "    eul = data.loc[data['IMSI'] == data['IMSI'].value_counts().index[rownumberX], ['Email UL (Bytes)']].sum().values\n",
    "    print('--->Agg. # of tot. data volume (in Bytes) - Email', edl + eul)\n",
    "    print('\\t---> Email DL (in Bytes)', edl)\n",
    "    print('\\t---> Email UL (in Bytes)', eul)\n",
    "    \n",
    "    # Gaming (DL + UL)\n",
    "    gadl = data.loc[data['IMSI'] == data['IMSI'].value_counts().index[rownumberX], ['Gaming DL (Bytes)']].sum().values \n",
    "    gaul = data.loc[data['IMSI'] == data['IMSI'].value_counts().index[rownumberX], ['Gaming UL (Bytes)']].sum().values\n",
    "    print('--->Agg. # of tot. data volume (in Bytes) - Gaming', gadl + gaul)\n",
    "    print('\\t---> Gaming DL (in Bytes)', gadl)\n",
    "    print('\\t---> Gaming UL (in Bytes)', gaul)\n",
    "    \n",
    "    # Other (DL + UL)\n",
    "    odl = data.loc[data['IMSI'] == data['IMSI'].value_counts().index[rownumberX], ['Other DL (Bytes)']].sum().values \n",
    "    oul = data.loc[data['IMSI'] == data['IMSI'].value_counts().index[rownumberX], ['Other UL (Bytes)']].sum().values\n",
    "    print('--->Agg. # of tot. data volume (in Bytes) - Other', odl + oul)\n",
    "    print('\\t---> Other DL (in Bytes)', odl)\n",
    "    print('\\t---> Other UL (in Bytes)', oul)\n",
    "    \n",
    "    print('\\n')\n",
    "    "
   ]
  },
  {
   "cell_type": "markdown",
   "id": "9a8b758f",
   "metadata": {
    "papermill": {
     "duration": 0.029114,
     "end_time": "2022-03-08T14:51:57.646205",
     "exception": false,
     "start_time": "2022-03-08T14:51:57.617091",
     "status": "completed"
    },
    "tags": []
   },
   "source": [
    "**Task 1.2 - Conduct an exploratory data analysis on those data & communicate useful insights.**"
   ]
  },
  {
   "cell_type": "code",
   "execution_count": 8,
   "id": "12a17db9",
   "metadata": {
    "execution": {
     "iopub.execute_input": "2022-03-08T14:51:57.711149Z",
     "iopub.status.busy": "2022-03-08T14:51:57.710434Z",
     "iopub.status.idle": "2022-03-08T14:51:59.234471Z",
     "shell.execute_reply": "2022-03-08T14:51:59.233857Z",
     "shell.execute_reply.started": "2022-03-08T14:42:22.740610Z"
    },
    "papermill": {
     "duration": 1.559164,
     "end_time": "2022-03-08T14:51:59.234612",
     "exception": false,
     "start_time": "2022-03-08T14:51:57.675448",
     "status": "completed"
    },
    "tags": []
   },
   "outputs": [],
   "source": [
    "from scipy import stats\n",
    "from numba import jit, cuda\n",
    "\n",
    "#other ways of looking at outliers - ZScore\n",
    "def zeroscore():\n",
    "    z = np.abs(stats.zscore(data))\n",
    "    print(z)\n",
    "\n",
    "#zeroscore()"
   ]
  },
  {
   "cell_type": "code",
   "execution_count": 9,
   "id": "e33708c9",
   "metadata": {
    "execution": {
     "iopub.execute_input": "2022-03-08T14:51:59.297963Z",
     "iopub.status.busy": "2022-03-08T14:51:59.296943Z",
     "iopub.status.idle": "2022-03-08T14:52:19.376810Z",
     "shell.execute_reply": "2022-03-08T14:52:19.375536Z",
     "shell.execute_reply.started": "2022-03-08T14:42:24.163984Z"
    },
    "papermill": {
     "duration": 20.112484,
     "end_time": "2022-03-08T14:52:19.377002",
     "exception": false,
     "start_time": "2022-03-08T14:51:59.264518",
     "status": "completed"
    },
    "tags": []
   },
   "outputs": [
    {
     "name": "stderr",
     "output_type": "stream",
     "text": [
      "/opt/conda/lib/python3.7/site-packages/ipykernel_launcher.py:14: RuntimeWarning: More than 20 figures have been opened. Figures created through the pyplot interface (`matplotlib.pyplot.figure`) are retained until explicitly closed and may consume too much memory. (To control this warning, see the rcParam `figure.max_open_warning`).\n",
      "  \n"
     ]
    },
    {
     "data": {
      "image/png": "[encoded data removed]",
      "text/plain": [
       "<Figure size 432x288 with 1 Axes>"
      ]
     },
     "metadata": {
      "needs_background": "light"
     },
     "output_type": "display_data"
    },
    {
     "data": {
      "image/png": "[encoded data removed]",
      "text/plain": [
       "<Figure size 432x288 with 1 Axes>"
      ]
     },
     "metadata": {
      "needs_background": "light"
     },
     "output_type": "display_data"
    },
    {
     "data": {
      "image/png": "[encoded data removed]",
      "text/plain": [
       "<Figure size 432x288 with 1 Axes>"
      ]
     },
     "metadata": {
      "needs_background": "light"
     },
     "output_type": "display_data"
    },
    {
     "data": {
      "image/png": "[encoded data removed]",
      "text/plain": [
       "<Figure size 432x288 with 1 Axes>"
      ]
     },
     "metadata": {
      "needs_background": "light"
     },
     "output_type": "display_data"
    },
    {
     "data": {
      "image/png": "[encoded data removed]",
      "text/plain": [
       "<Figure size 432x288 with 1 Axes>"
      ]
     },
     "metadata": {
      "needs_background": "light"
     },
     "output_type": "display_data"
    },
    {
     "data": {
      "image/png": "[encoded data removed]",
      "text/plain": [
       "<Figure size 432x288 with 1 Axes>"
      ]
     },
     "metadata": {
      "needs_background": "light"
     },
     "output_type": "display_data"
    },
    {
     "data": {
      "image/png": "[encoded data removed]",
      "text/plain": [
       "<Figure size 432x288 with 1 Axes>"
      ]
     },
     "metadata": {
      "needs_background": "light"
     },
     "output_type": "display_data"
    },
    {
     "data": {
      "image/png": "[encoded data removed]",
      "text/plain": [
       "<Figure size 432x288 with 1 Axes>"
      ]
     },
     "metadata": {
      "needs_background": "light"
     },
     "output_type": "display_data"
    },
    {
     "data": {
      "image/png": "[encoded data removed]",
      "text/plain": [
       "<Figure size 432x288 with 1 Axes>"
      ]
     },
     "metadata": {
      "needs_background": "light"
     },
     "output_type": "display_data"
    },
    {
     "data": {
      "image/png": "[encoded data removed]",
      "text/plain": [
       "<Figure size 432x288 with 1 Axes>"
      ]
     },
     "metadata": {
      "needs_background": "light"
     },
     "output_type": "display_data"
    },
    {
     "data": {
      "image/png": "[encoded data removed]",
      "text/plain": [
       "<Figure size 432x288 with 1 Axes>"
      ]
     },
     "metadata": {
      "needs_background": "light"
     },
     "output_type": "display_data"
    },
    {
     "data": {
      "image/png": "[encoded data removed]",
      "text/plain": [
       "<Figure size 432x288 with 1 Axes>"
      ]
     },
     "metadata": {
      "needs_background": "light"
     },
     "output_type": "display_data"
    },
    {
     "data": {
      "image/png": "[encoded data removed]",
      "text/plain": [
       "<Figure size 432x288 with 1 Axes>"
      ]
     },
     "metadata": {
      "needs_background": "light"
     },
     "output_type": "display_data"
    },
    {
     "data": {
      "image/png": "[encoded data removed]",
      "text/plain": [
       "<Figure size 432x288 with 1 Axes>"
      ]
     },
     "metadata": {
      "needs_background": "light"
     },
     "output_type": "display_data"
    },
    {
     "data": {
      "image/png": "[encoded data removed]",
      "text/plain": [
       "<Figure size 432x288 with 1 Axes>"
      ]
     },
     "metadata": {
      "needs_background": "light"
     },
     "output_type": "display_data"
    },
    {
     "data": {
      "image/png": "[encoded data removed]",
      "text/plain": [
       "<Figure size 432x288 with 1 Axes>"
      ]
     },
     "metadata": {
      "needs_background": "light"
     },
     "output_type": "display_data"
    },
    {
     "data": {
      "image/png": "[encoded data removed]",
      "text/plain": [
       "<Figure size 432x288 with 1 Axes>"
      ]
     },
     "metadata": {
      "needs_background": "light"
     },
     "output_type": "display_data"
    },
    {
     "data": {
      "image/png": "[encoded data removed]",
      "text/plain": [
       "<Figure size 432x288 with 1 Axes>"
      ]
     },
     "metadata": {
      "needs_background": "light"
     },
     "output_type": "display_data"
    },
    {
     "data": {
      "image/png": "[encoded data removed]",
      "text/plain": [
       "<Figure size 432x288 with 1 Axes>"
      ]
     },
     "metadata": {
      "needs_background": "light"
     },
     "output_type": "display_data"
    },
    {
     "data": {
      "image/png": "[encoded data removed]",
      "text/plain": [
       "<Figure size 432x288 with 1 Axes>"
      ]
     },
     "metadata": {
      "needs_background": "light"
     },
     "output_type": "display_data"
    },
    {
     "data": {
      "image/png": "[encoded data removed]",
      "text/plain": [
       "<Figure size 432x288 with 1 Axes>"
      ]
     },
     "metadata": {
      "needs_background": "light"
     },
     "output_type": "display_data"
    },
    {
     "data": {
      "image/png": "[encoded data removed]",
      "text/plain": [
       "<Figure size 432x288 with 1 Axes>"
      ]
     },
     "metadata": {
      "needs_background": "light"
     },
     "output_type": "display_data"
    },
    {
     "data": {
      "image/png": "[encoded data removed]",
      "text/plain": [
       "<Figure size 432x288 with 1 Axes>"
      ]
     },
     "metadata": {
      "needs_background": "light"
     },
     "output_type": "display_data"
    },
    {
     "data": {
      "image/png": "[encoded data removed]",
      "text/plain": [
       "<Figure size 432x288 with 1 Axes>"
      ]
     },
     "metadata": {
      "needs_background": "light"
     },
     "output_type": "display_data"
    },
    {
     "data": {
      "image/png": "[encoded data removed]",
      "text/plain": [
       "<Figure size 432x288 with 1 Axes>"
      ]
     },
     "metadata": {
      "needs_background": "light"
     },
     "output_type": "display_data"
    },
    {
     "data": {
      "image/png": "[encoded data removed]",
      "text/plain": [
       "<Figure size 432x288 with 1 Axes>"
      ]
     },
     "metadata": {
      "needs_background": "light"
     },
     "output_type": "display_data"
    },
    {
     "data": {
      "image/png": "[encoded data removed]",
      "text/plain": [
       "<Figure size 432x288 with 1 Axes>"
      ]
     },
     "metadata": {
      "needs_background": "light"
     },
     "output_type": "display_data"
    },
    {
     "data": {
      "image/png": "[encoded data removed]",
      "text/plain": [
       "<Figure size 432x288 with 1 Axes>"
      ]
     },
     "metadata": {
      "needs_background": "light"
     },
     "output_type": "display_data"
    },
    {
     "data": {
      "image/png": "[encoded data removed]",
      "text/plain": [
       "<Figure size 432x288 with 1 Axes>"
      ]
     },
     "metadata": {
      "needs_background": "light"
     },
     "output_type": "display_data"
    },
    {
     "data": {
      "image/png": "[encoded data removed]",
      "text/plain": [
       "<Figure size 432x288 with 1 Axes>"
      ]
     },
     "metadata": {
      "needs_background": "light"
     },
     "output_type": "display_data"
    },
    {
     "data": {
      "image/png": "[encoded data removed]",
      "text/plain": [
       "<Figure size 432x288 with 1 Axes>"
      ]
     },
     "metadata": {
      "needs_background": "light"
     },
     "output_type": "display_data"
    },
    {
     "data": {
      "image/png": "[encoded data removed]",
      "text/plain": [
       "<Figure size 432x288 with 1 Axes>"
      ]
     },
     "metadata": {
      "needs_background": "light"
     },
     "output_type": "display_data"
    },
    {
     "data": {
      "image/png": "[encoded data removed]",
      "text/plain": [
       "<Figure size 432x288 with 1 Axes>"
      ]
     },
     "metadata": {
      "needs_background": "light"
     },
     "output_type": "display_data"
    },
    {
     "data": {
      "image/png": "[encoded data removed]",
      "text/plain": [
       "<Figure size 432x288 with 1 Axes>"
      ]
     },
     "metadata": {
      "needs_background": "light"
     },
     "output_type": "display_data"
    },
    {
     "data": {
      "image/png": "[encoded data removed]",
      "text/plain": [
       "<Figure size 432x288 with 1 Axes>"
      ]
     },
     "metadata": {
      "needs_background": "light"
     },
     "output_type": "display_data"
    },
    {
     "data": {
      "image/png": "[encoded data removed]",
      "text/plain": [
       "<Figure size 432x288 with 1 Axes>"
      ]
     },
     "metadata": {
      "needs_background": "light"
     },
     "output_type": "display_data"
    },
    {
     "data": {
      "image/png": "[encoded data removed]",
      "text/plain": [
       "<Figure size 432x288 with 1 Axes>"
      ]
     },
     "metadata": {
      "needs_background": "light"
     },
     "output_type": "display_data"
    },
    {
     "data": {
      "image/png": "[encoded data removed]",
      "text/plain": [
       "<Figure size 432x288 with 1 Axes>"
      ]
     },
     "metadata": {
      "needs_background": "light"
     },
     "output_type": "display_data"
    },
    {
     "data": {
      "image/png": "[encoded data removed]",
      "text/plain": [
       "<Figure size 432x288 with 1 Axes>"
      ]
     },
     "metadata": {
      "needs_background": "light"
     },
     "output_type": "display_data"
    },
    {
     "data": {
      "image/png": "[encoded data removed]",
      "text/plain": [
       "<Figure size 432x288 with 1 Axes>"
      ]
     },
     "metadata": {
      "needs_background": "light"
     },
     "output_type": "display_data"
    },
    {
     "data": {
      "image/png": "[encoded data removed]",
      "text/plain": [
       "<Figure size 432x288 with 1 Axes>"
      ]
     },
     "metadata": {
      "needs_background": "light"
     },
     "output_type": "display_data"
    },
    {
     "data": {
      "image/png": "[encoded data removed]",
      "text/plain": [
       "<Figure size 432x288 with 1 Axes>"
      ]
     },
     "metadata": {
      "needs_background": "light"
     },
     "output_type": "display_data"
    },
    {
     "data": {
      "image/png": "[encoded data removed]",
      "text/plain": [
       "<Figure size 432x288 with 1 Axes>"
      ]
     },
     "metadata": {
      "needs_background": "light"
     },
     "output_type": "display_data"
    },
    {
     "data": {
      "image/png": "[encoded data removed]",
      "text/plain": [
       "<Figure size 432x288 with 1 Axes>"
      ]
     },
     "metadata": {
      "needs_background": "light"
     },
     "output_type": "display_data"
    },
    {
     "data": {
      "image/png": "[encoded data removed]",
      "text/plain": [
       "<Figure size 432x288 with 1 Axes>"
      ]
     },
     "metadata": {
      "needs_background": "light"
     },
     "output_type": "display_data"
    },
    {
     "data": {
      "image/png": "[encoded data removed]",
      "text/plain": [
       "<Figure size 432x288 with 1 Axes>"
      ]
     },
     "metadata": {
      "needs_background": "light"
     },
     "output_type": "display_data"
    },
    {
     "data": {
      "image/png": "[encoded data removed]",
      "text/plain": [
       "<Figure size 432x288 with 1 Axes>"
      ]
     },
     "metadata": {
      "needs_background": "light"
     },
     "output_type": "display_data"
    },
    {
     "data": {
      "image/png": "[encoded data removed]",
      "text/plain": [
       "<Figure size 432x288 with 1 Axes>"
      ]
     },
     "metadata": {
      "needs_background": "light"
     },
     "output_type": "display_data"
    },
    {
     "data": {
      "image/png": "[encoded data removed]",
      "text/plain": [
       "<Figure size 432x288 with 1 Axes>"
      ]
     },
     "metadata": {
      "needs_background": "light"
     },
     "output_type": "display_data"
    },
    {
     "data": {
      "image/png": "[encoded data removed]",
      "text/plain": [
       "<Figure size 432x288 with 1 Axes>"
      ]
     },
     "metadata": {
      "needs_background": "light"
     },
     "output_type": "display_data"
    }
   ],
   "source": [
    "# filling nulls and outliners with the mean\n",
    "# Visualize column data in order to get outliers\n",
    "\n",
    "featureNames = data.columns.values\n",
    "featureNames = featureNames.tolist()\n",
    "featureNames.remove('Start')\n",
    "featureNames.remove('End')\n",
    "featureNames.remove('Last Location Name')\n",
    "featureNames.remove('Handset Manufacturer')\n",
    "featureNames.remove('Handset Type')\n",
    "\n",
    "import matplotlib.pyplot as plt # data visualization\n",
    "for feature in featureNames:\n",
    "        plt.figure()\n",
    "        data.boxplot([feature])"
   ]
  },
  {
   "cell_type": "code",
   "execution_count": 10,
   "id": "3d5a2ace",
   "metadata": {
    "execution": {
     "iopub.execute_input": "2022-03-08T14:52:19.530143Z",
     "iopub.status.busy": "2022-03-08T14:52:19.529371Z",
     "iopub.status.idle": "2022-03-08T14:52:21.674335Z",
     "shell.execute_reply": "2022-03-08T14:52:21.673680Z",
     "shell.execute_reply.started": "2022-03-08T14:42:43.649886Z"
    },
    "papermill": {
     "duration": 2.227374,
     "end_time": "2022-03-08T14:52:21.674486",
     "exception": false,
     "start_time": "2022-03-08T14:52:19.447112",
     "status": "completed"
    },
    "tags": []
   },
   "outputs": [
    {
     "name": "stdout",
     "output_type": "stream",
     "text": [
      "0 Avg RTT DL (ms)\n",
      "1 Avg RTT UL (ms)\n",
      "2 Avg Bearer TP DL (kbps)\n",
      "3 Avg Bearer TP UL (kbps)\n",
      "4 TCP DL Retrans. Vol (Bytes)\n",
      "5 TCP UL Retrans. Vol (Bytes)\n",
      "6 DL TP < 50 Kbps (%)\n",
      "7 50 Kbps < DL TP < 250 Kbps (%)\n",
      "8 250 Kbps < DL TP < 1 Mbps (%)\n",
      "9 DL TP > 1 Mbps (%)\n",
      "10 UL TP < 10 Kbps (%)\n",
      "11 10 Kbps < UL TP < 50 Kbps (%)\n",
      "12 50 Kbps < UL TP < 300 Kbps (%)\n",
      "13 UL TP > 300 Kbps (%)\n",
      "14 HTTP DL (Bytes)\n",
      "15 HTTP UL (Bytes)\n",
      "16 Activity Duration DL (ms)\n",
      "17 Activity Duration UL (ms)\n",
      "18 Dur. (ms).1\n",
      "19 Nb of sec with 125000B < Vol DL\n",
      "20 Nb of sec with 1250B < Vol UL < 6250B\n",
      "21 Nb of sec with 31250B < Vol DL < 125000B\n",
      "22 Nb of sec with 37500B < Vol UL\n",
      "23 Nb of sec with 6250B < Vol DL < 31250B\n",
      "24 Nb of sec with 6250B < Vol UL < 37500B\n",
      "25 Nb of sec with Vol DL < 6250B\n",
      "26 Nb of sec with Vol UL < 1250B\n",
      "27 Social Media DL (Bytes)\n",
      "28 Total UL (Bytes)\n",
      "29 Dur. (ms)\n",
      "<class 'pandas.core.frame.DataFrame'>\n",
      "RangeIndex: 150001 entries, 0 to 150000\n",
      "Data columns (total 55 columns):\n",
      " #   Column                                    Non-Null Count   Dtype  \n",
      "---  ------                                    --------------   -----  \n",
      " 0   Bearer Id                                 149010 non-null  float64\n",
      " 1   Start                                     150000 non-null  object \n",
      " 2   Start ms                                  150000 non-null  float64\n",
      " 3   End                                       150000 non-null  object \n",
      " 4   End ms                                    150000 non-null  float64\n",
      " 5   Dur. (ms)                                 150000 non-null  float64\n",
      " 6   IMSI                                      149431 non-null  float64\n",
      " 7   MSISDN/Number                             148935 non-null  float64\n",
      " 8   IMEI                                      149429 non-null  float64\n",
      " 9   Last Location Name                        148848 non-null  object \n",
      " 10  Avg RTT DL (ms)                           122172 non-null  float64\n",
      " 11  Avg RTT UL (ms)                           122189 non-null  float64\n",
      " 12  Avg Bearer TP DL (kbps)                   150000 non-null  float64\n",
      " 13  Avg Bearer TP UL (kbps)                   150000 non-null  float64\n",
      " 14  TCP DL Retrans. Vol (Bytes)               61855 non-null   float64\n",
      " 15  TCP UL Retrans. Vol (Bytes)               53352 non-null   float64\n",
      " 16  DL TP < 50 Kbps (%)                       149247 non-null  float64\n",
      " 17  50 Kbps < DL TP < 250 Kbps (%)            149247 non-null  float64\n",
      " 18  250 Kbps < DL TP < 1 Mbps (%)             149247 non-null  float64\n",
      " 19  DL TP > 1 Mbps (%)                        149247 non-null  float64\n",
      " 20  UL TP < 10 Kbps (%)                       149209 non-null  float64\n",
      " 21  10 Kbps < UL TP < 50 Kbps (%)             149209 non-null  float64\n",
      " 22  50 Kbps < UL TP < 300 Kbps (%)            149209 non-null  float64\n",
      " 23  UL TP > 300 Kbps (%)                      149209 non-null  float64\n",
      " 24  HTTP DL (Bytes)                           68527 non-null   float64\n",
      " 25  HTTP UL (Bytes)                           68191 non-null   float64\n",
      " 26  Activity Duration DL (ms)                 150000 non-null  float64\n",
      " 27  Activity Duration UL (ms)                 150000 non-null  float64\n",
      " 28  Dur. (ms).1                               150000 non-null  float64\n",
      " 29  Handset Manufacturer                      149429 non-null  object \n",
      " 30  Handset Type                              149429 non-null  object \n",
      " 31  Nb of sec with 125000B < Vol DL           52463 non-null   float64\n",
      " 32  Nb of sec with 1250B < Vol UL < 6250B     57107 non-null   float64\n",
      " 33  Nb of sec with 31250B < Vol DL < 125000B  56415 non-null   float64\n",
      " 34  Nb of sec with 37500B < Vol UL            19747 non-null   float64\n",
      " 35  Nb of sec with 6250B < Vol DL < 31250B    61684 non-null   float64\n",
      " 36  Nb of sec with 6250B < Vol UL < 37500B    38158 non-null   float64\n",
      " 37  Nb of sec with Vol DL < 6250B             149246 non-null  float64\n",
      " 38  Nb of sec with Vol UL < 1250B             149208 non-null  float64\n",
      " 39  Social Media DL (Bytes)                   150001 non-null  float64\n",
      " 40  Social Media UL (Bytes)                   150001 non-null  float64\n",
      " 41  Google DL (Bytes)                         150001 non-null  float64\n",
      " 42  Google UL (Bytes)                         150001 non-null  float64\n",
      " 43  Email DL (Bytes)                          150001 non-null  float64\n",
      " 44  Email UL (Bytes)                          150001 non-null  float64\n",
      " 45  Youtube DL (Bytes)                        150001 non-null  float64\n",
      " 46  Youtube UL (Bytes)                        150001 non-null  float64\n",
      " 47  Netflix DL (Bytes)                        150001 non-null  float64\n",
      " 48  Netflix UL (Bytes)                        150001 non-null  float64\n",
      " 49  Gaming DL (Bytes)                         150001 non-null  float64\n",
      " 50  Gaming UL (Bytes)                         150001 non-null  float64\n",
      " 51  Other DL (Bytes)                          150001 non-null  float64\n",
      " 52  Other UL (Bytes)                          150001 non-null  float64\n",
      " 53  Total UL (Bytes)                          150000 non-null  float64\n",
      " 54  Total DL (Bytes)                          150000 non-null  float64\n",
      "dtypes: float64(50), object(5)\n",
      "memory usage: 62.9+ MB\n",
      "None\n",
      "<class 'pandas.core.frame.DataFrame'>\n",
      "RangeIndex: 150001 entries, 0 to 150000\n",
      "Data columns (total 55 columns):\n",
      " #   Column                                    Non-Null Count   Dtype  \n",
      "---  ------                                    --------------   -----  \n",
      " 0   Bearer Id                                 149010 non-null  float64\n",
      " 1   Start                                     150000 non-null  object \n",
      " 2   Start ms                                  150000 non-null  float64\n",
      " 3   End                                       150000 non-null  object \n",
      " 4   End ms                                    150000 non-null  float64\n",
      " 5   Dur. (ms)                                 142816 non-null  float64\n",
      " 6   IMSI                                      149431 non-null  float64\n",
      " 7   MSISDN/Number                             148935 non-null  float64\n",
      " 8   IMEI                                      149429 non-null  float64\n",
      " 9   Last Location Name                        148848 non-null  object \n",
      " 10  Avg RTT DL (ms)                           107981 non-null  float64\n",
      " 11  Avg RTT UL (ms)                           110946 non-null  float64\n",
      " 12  Avg Bearer TP DL (kbps)                   136766 non-null  float64\n",
      " 13  Avg Bearer TP UL (kbps)                   128469 non-null  float64\n",
      " 14  TCP DL Retrans. Vol (Bytes)               52903 non-null   float64\n",
      " 15  TCP UL Retrans. Vol (Bytes)               45948 non-null   float64\n",
      " 16  DL TP < 50 Kbps (%)                       130895 non-null  float64\n",
      " 17  50 Kbps < DL TP < 250 Kbps (%)            131850 non-null  float64\n",
      " 18  250 Kbps < DL TP < 1 Mbps (%)             119496 non-null  float64\n",
      " 19  DL TP > 1 Mbps (%)                        0 non-null       float64\n",
      " 20  UL TP < 10 Kbps (%)                       127086 non-null  float64\n",
      " 21  10 Kbps < UL TP < 50 Kbps (%)             0 non-null       float64\n",
      " 22  50 Kbps < UL TP < 300 Kbps (%)            0 non-null       float64\n",
      " 23  UL TP > 300 Kbps (%)                      0 non-null       float64\n",
      " 24  HTTP DL (Bytes)                           56155 non-null   float64\n",
      " 25  HTTP UL (Bytes)                           57776 non-null   float64\n",
      " 26  Activity Duration DL (ms)                 123341 non-null  float64\n",
      " 27  Activity Duration UL (ms)                 123978 non-null  float64\n",
      " 28  Dur. (ms).1                               142816 non-null  float64\n",
      " 29  Handset Manufacturer                      149429 non-null  object \n",
      " 30  Handset Type                              149429 non-null  object \n",
      " 31  Nb of sec with 125000B < Vol DL           44783 non-null   float64\n",
      " 32  Nb of sec with 1250B < Vol UL < 6250B     49627 non-null   float64\n",
      " 33  Nb of sec with 31250B < Vol DL < 125000B  49584 non-null   float64\n",
      " 34  Nb of sec with 37500B < Vol UL            17093 non-null   float64\n",
      " 35  Nb of sec with 6250B < Vol DL < 31250B    55800 non-null   float64\n",
      " 36  Nb of sec with 6250B < Vol UL < 37500B    32637 non-null   float64\n",
      " 37  Nb of sec with Vol DL < 6250B             124702 non-null  float64\n",
      " 38  Nb of sec with Vol UL < 1250B             124054 non-null  float64\n",
      " 39  Social Media DL (Bytes)                   150001 non-null  float64\n",
      " 40  Social Media UL (Bytes)                   150001 non-null  float64\n",
      " 41  Google DL (Bytes)                         150001 non-null  float64\n",
      " 42  Google UL (Bytes)                         150001 non-null  float64\n",
      " 43  Email DL (Bytes)                          150001 non-null  float64\n",
      " 44  Email UL (Bytes)                          150001 non-null  float64\n",
      " 45  Youtube DL (Bytes)                        150001 non-null  float64\n",
      " 46  Youtube UL (Bytes)                        150001 non-null  float64\n",
      " 47  Netflix DL (Bytes)                        150001 non-null  float64\n",
      " 48  Netflix UL (Bytes)                        150001 non-null  float64\n",
      " 49  Gaming DL (Bytes)                         150001 non-null  float64\n",
      " 50  Gaming UL (Bytes)                         150001 non-null  float64\n",
      " 51  Other DL (Bytes)                          150001 non-null  float64\n",
      " 52  Other UL (Bytes)                          150001 non-null  float64\n",
      " 53  Total UL (Bytes)                          149757 non-null  float64\n",
      " 54  Total DL (Bytes)                          150000 non-null  float64\n",
      "dtypes: float64(50), object(5)\n",
      "memory usage: 62.9+ MB\n",
      "None\n"
     ]
    }
   ],
   "source": [
    "# columns with outliners\n",
    "outliercols = ['Avg RTT DL (ms)', 'Avg RTT UL (ms)', 'Avg Bearer TP DL (kbps)', 'Avg Bearer TP UL (kbps)', 'TCP DL Retrans. Vol (Bytes)',\n",
    "        'TCP UL Retrans. Vol (Bytes)', 'DL TP < 50 Kbps (%)', '50 Kbps < DL TP < 250 Kbps (%)', '250 Kbps < DL TP < 1 Mbps (%)',\n",
    "       'DL TP > 1 Mbps (%)', 'UL TP < 10 Kbps (%)', '10 Kbps < UL TP < 50 Kbps (%)',\n",
    "       '50 Kbps < UL TP < 300 Kbps (%)', 'UL TP > 300 Kbps (%)',\n",
    "       'HTTP DL (Bytes)', 'HTTP UL (Bytes)', 'Activity Duration DL (ms)',\n",
    "       'Activity Duration UL (ms)', 'Dur. (ms).1', 'Nb of sec with 125000B < Vol DL',\n",
    "       'Nb of sec with 1250B < Vol UL < 6250B',\n",
    "       'Nb of sec with 31250B < Vol DL < 125000B',\n",
    "       'Nb of sec with 37500B < Vol UL',\n",
    "       'Nb of sec with 6250B < Vol DL < 31250B',\n",
    "       'Nb of sec with 6250B < Vol UL < 37500B',\n",
    "       'Nb of sec with Vol DL < 6250B', 'Nb of sec with Vol UL < 1250B',\n",
    "       'Social Media DL (Bytes)', 'Total UL (Bytes)', 'Dur. (ms)']\n",
    "\n",
    "# new dataframe to hold outlier cleaned and NaN filled data\n",
    "new_data = data.copy()\n",
    "\n",
    "# for all outliner columns\n",
    "for cols in outliercols:\n",
    "    print(outliercols.index(cols), cols)\n",
    "    q1 = new_data[cols].quantile(0.25)\n",
    "    q3 = new_data[cols].quantile(0.75)\n",
    "    iqr = q3 - q1\n",
    "\n",
    "    # calculate upper and lower limits\n",
    "    lowerlim = q1 - 1.5 * iqr\n",
    "    upperlim = q3 + 1.5 * iqr\n",
    "\n",
    "    # remove data greater than the upper limit\n",
    "    new_data[cols] = new_data.loc[new_data[cols] < upperlim, [cols]]\n",
    "\n",
    "    # remove data lower than the upper limit\n",
    "    new_data[cols] = new_data.loc[new_data[cols] > lowerlim, [cols]]\n",
    "\n",
    "    \n",
    "    # calculate nulls\n",
    "    #nulls = data.loc[data[cols].isnull(), [cols]]\n",
    "\n",
    "    # add nulls \n",
    "    #new_data = new_data.append(nulls, verify_integrity = True)\n",
    "\n",
    "    # sort row index\n",
    "    #new_data.sort_index(axis = 0, inplace = True)\n",
    "\n",
    "    \n",
    "    #print(\"--\", nulls, '--')\n",
    "    #print(data[cols])\n",
    "    #print(new_data, \"\\nmedian=\", median, \"min=\", new_data[cols].min(), 'max=', new_data[cols].max())\n",
    "    #print('q1=', q1, 'q3=', q3, 'iqr=', iqr, 'lower limit=', lowerlim, 'upper limit=', upperlim)\n",
    "    #print(\"++++++++++++++++++++++++++++++++++++++++++++++++++++++++++++++++++++++++++++++++++++++++++++++++++++++\\n\")      \n",
    "\n",
    "print(data.info())\n",
    "print(new_data.info())"
   ]
  },
  {
   "cell_type": "code",
   "execution_count": 11,
   "id": "35195736",
   "metadata": {
    "execution": {
     "iopub.execute_input": "2022-03-08T14:52:21.826108Z",
     "iopub.status.busy": "2022-03-08T14:52:21.825444Z",
     "iopub.status.idle": "2022-03-08T14:52:21.985799Z",
     "shell.execute_reply": "2022-03-08T14:52:21.985115Z",
     "shell.execute_reply.started": "2022-03-08T14:42:45.700743Z"
    },
    "papermill": {
     "duration": 0.239816,
     "end_time": "2022-03-08T14:52:21.986003",
     "exception": false,
     "start_time": "2022-03-08T14:52:21.746187",
     "status": "completed"
    },
    "tags": []
   },
   "outputs": [
    {
     "name": "stdout",
     "output_type": "stream",
     "text": [
      "<class 'pandas.core.frame.DataFrame'>\n",
      "RangeIndex: 150001 entries, 0 to 150000\n",
      "Data columns (total 55 columns):\n",
      " #   Column                                    Non-Null Count   Dtype  \n",
      "---  ------                                    --------------   -----  \n",
      " 0   Bearer Id                                 150001 non-null  float64\n",
      " 1   Start                                     150000 non-null  object \n",
      " 2   Start ms                                  150001 non-null  float64\n",
      " 3   End                                       150000 non-null  object \n",
      " 4   End ms                                    150001 non-null  float64\n",
      " 5   Dur. (ms)                                 150001 non-null  float64\n",
      " 6   IMSI                                      150001 non-null  float64\n",
      " 7   MSISDN/Number                             150001 non-null  float64\n",
      " 8   IMEI                                      150001 non-null  float64\n",
      " 9   Last Location Name                        148848 non-null  object \n",
      " 10  Avg RTT DL (ms)                           150001 non-null  float64\n",
      " 11  Avg RTT UL (ms)                           150001 non-null  float64\n",
      " 12  Avg Bearer TP DL (kbps)                   150001 non-null  float64\n",
      " 13  Avg Bearer TP UL (kbps)                   150001 non-null  float64\n",
      " 14  TCP DL Retrans. Vol (Bytes)               150001 non-null  float64\n",
      " 15  TCP UL Retrans. Vol (Bytes)               150001 non-null  float64\n",
      " 16  DL TP < 50 Kbps (%)                       150001 non-null  float64\n",
      " 17  50 Kbps < DL TP < 250 Kbps (%)            150001 non-null  float64\n",
      " 18  250 Kbps < DL TP < 1 Mbps (%)             150001 non-null  float64\n",
      " 19  DL TP > 1 Mbps (%)                        0 non-null       float64\n",
      " 20  UL TP < 10 Kbps (%)                       150001 non-null  float64\n",
      " 21  10 Kbps < UL TP < 50 Kbps (%)             0 non-null       float64\n",
      " 22  50 Kbps < UL TP < 300 Kbps (%)            0 non-null       float64\n",
      " 23  UL TP > 300 Kbps (%)                      0 non-null       float64\n",
      " 24  HTTP DL (Bytes)                           150001 non-null  float64\n",
      " 25  HTTP UL (Bytes)                           150001 non-null  float64\n",
      " 26  Activity Duration DL (ms)                 150001 non-null  float64\n",
      " 27  Activity Duration UL (ms)                 150001 non-null  float64\n",
      " 28  Dur. (ms).1                               150001 non-null  float64\n",
      " 29  Handset Manufacturer                      149429 non-null  object \n",
      " 30  Handset Type                              149429 non-null  object \n",
      " 31  Nb of sec with 125000B < Vol DL           150001 non-null  float64\n",
      " 32  Nb of sec with 1250B < Vol UL < 6250B     150001 non-null  float64\n",
      " 33  Nb of sec with 31250B < Vol DL < 125000B  150001 non-null  float64\n",
      " 34  Nb of sec with 37500B < Vol UL            150001 non-null  float64\n",
      " 35  Nb of sec with 6250B < Vol DL < 31250B    150001 non-null  float64\n",
      " 36  Nb of sec with 6250B < Vol UL < 37500B    150001 non-null  float64\n",
      " 37  Nb of sec with Vol DL < 6250B             150001 non-null  float64\n",
      " 38  Nb of sec with Vol UL < 1250B             150001 non-null  float64\n",
      " 39  Social Media DL (Bytes)                   150001 non-null  float64\n",
      " 40  Social Media UL (Bytes)                   150001 non-null  float64\n",
      " 41  Google DL (Bytes)                         150001 non-null  float64\n",
      " 42  Google UL (Bytes)                         150001 non-null  float64\n",
      " 43  Email DL (Bytes)                          150001 non-null  float64\n",
      " 44  Email UL (Bytes)                          150001 non-null  float64\n",
      " 45  Youtube DL (Bytes)                        150001 non-null  float64\n",
      " 46  Youtube UL (Bytes)                        150001 non-null  float64\n",
      " 47  Netflix DL (Bytes)                        150001 non-null  float64\n",
      " 48  Netflix UL (Bytes)                        150001 non-null  float64\n",
      " 49  Gaming DL (Bytes)                         150001 non-null  float64\n",
      " 50  Gaming UL (Bytes)                         150001 non-null  float64\n",
      " 51  Other DL (Bytes)                          150001 non-null  float64\n",
      " 52  Other UL (Bytes)                          150001 non-null  float64\n",
      " 53  Total UL (Bytes)                          150001 non-null  float64\n",
      " 54  Total DL (Bytes)                          150001 non-null  float64\n",
      "dtypes: float64(50), object(5)\n",
      "memory usage: 62.9+ MB\n"
     ]
    }
   ],
   "source": [
    "# features to clean (all features without the object data type features)\n",
    "tocleancols = new_data.columns.values.tolist()\n",
    "\n",
    "# remove the object data type features\n",
    "tocleancols.remove('Start')\n",
    "tocleancols.remove('End')\n",
    "tocleancols.remove('Last Location Name')\n",
    "tocleancols.remove('Handset Manufacturer')\n",
    "tocleancols.remove('Handset Type')\n",
    "\n",
    "# fill na with median for all columns\n",
    "for col in tocleancols:\n",
    "    # calculate the mean\n",
    "    mean = new_data[col].mean()\n",
    "    # fill the NaN with the median\n",
    "    new_data[col].fillna(mean, inplace = True)\n",
    "\n",
    "new_data.info()"
   ]
  },
  {
   "cell_type": "code",
   "execution_count": 12,
   "id": "1d21e8fc",
   "metadata": {
    "execution": {
     "iopub.execute_input": "2022-03-08T14:52:22.156548Z",
     "iopub.status.busy": "2022-03-08T14:52:22.155847Z",
     "iopub.status.idle": "2022-03-08T14:52:22.336309Z",
     "shell.execute_reply": "2022-03-08T14:52:22.337057Z",
     "shell.execute_reply.started": "2022-03-08T14:42:45.869476Z"
    },
    "papermill": {
     "duration": 0.277552,
     "end_time": "2022-03-08T14:52:22.337286",
     "exception": false,
     "start_time": "2022-03-08T14:52:22.059734",
     "status": "completed"
    },
    "tags": []
   },
   "outputs": [
    {
     "name": "stdout",
     "output_type": "stream",
     "text": [
      "<class 'pandas.core.frame.DataFrame'>\n",
      "RangeIndex: 150001 entries, 0 to 150000\n",
      "Data columns (total 55 columns):\n",
      " #   Column                                    Non-Null Count   Dtype  \n",
      "---  ------                                    --------------   -----  \n",
      " 0   Bearer Id                                 150001 non-null  float64\n",
      " 1   Start                                     150001 non-null  object \n",
      " 2   Start ms                                  150001 non-null  float64\n",
      " 3   End                                       150001 non-null  object \n",
      " 4   End ms                                    150001 non-null  float64\n",
      " 5   Dur. (ms)                                 150001 non-null  float64\n",
      " 6   IMSI                                      150001 non-null  float64\n",
      " 7   MSISDN/Number                             150001 non-null  float64\n",
      " 8   IMEI                                      150001 non-null  float64\n",
      " 9   Last Location Name                        150001 non-null  object \n",
      " 10  Avg RTT DL (ms)                           150001 non-null  float64\n",
      " 11  Avg RTT UL (ms)                           150001 non-null  float64\n",
      " 12  Avg Bearer TP DL (kbps)                   150001 non-null  float64\n",
      " 13  Avg Bearer TP UL (kbps)                   150001 non-null  float64\n",
      " 14  TCP DL Retrans. Vol (Bytes)               150001 non-null  float64\n",
      " 15  TCP UL Retrans. Vol (Bytes)               150001 non-null  float64\n",
      " 16  DL TP < 50 Kbps (%)                       150001 non-null  float64\n",
      " 17  50 Kbps < DL TP < 250 Kbps (%)            150001 non-null  float64\n",
      " 18  250 Kbps < DL TP < 1 Mbps (%)             150001 non-null  float64\n",
      " 19  DL TP > 1 Mbps (%)                        0 non-null       float64\n",
      " 20  UL TP < 10 Kbps (%)                       150001 non-null  float64\n",
      " 21  10 Kbps < UL TP < 50 Kbps (%)             0 non-null       float64\n",
      " 22  50 Kbps < UL TP < 300 Kbps (%)            0 non-null       float64\n",
      " 23  UL TP > 300 Kbps (%)                      0 non-null       float64\n",
      " 24  HTTP DL (Bytes)                           150001 non-null  float64\n",
      " 25  HTTP UL (Bytes)                           150001 non-null  float64\n",
      " 26  Activity Duration DL (ms)                 150001 non-null  float64\n",
      " 27  Activity Duration UL (ms)                 150001 non-null  float64\n",
      " 28  Dur. (ms).1                               150001 non-null  float64\n",
      " 29  Handset Manufacturer                      150001 non-null  object \n",
      " 30  Handset Type                              150001 non-null  object \n",
      " 31  Nb of sec with 125000B < Vol DL           150001 non-null  float64\n",
      " 32  Nb of sec with 1250B < Vol UL < 6250B     150001 non-null  float64\n",
      " 33  Nb of sec with 31250B < Vol DL < 125000B  150001 non-null  float64\n",
      " 34  Nb of sec with 37500B < Vol UL            150001 non-null  float64\n",
      " 35  Nb of sec with 6250B < Vol DL < 31250B    150001 non-null  float64\n",
      " 36  Nb of sec with 6250B < Vol UL < 37500B    150001 non-null  float64\n",
      " 37  Nb of sec with Vol DL < 6250B             150001 non-null  float64\n",
      " 38  Nb of sec with Vol UL < 1250B             150001 non-null  float64\n",
      " 39  Social Media DL (Bytes)                   150001 non-null  float64\n",
      " 40  Social Media UL (Bytes)                   150001 non-null  float64\n",
      " 41  Google DL (Bytes)                         150001 non-null  float64\n",
      " 42  Google UL (Bytes)                         150001 non-null  float64\n",
      " 43  Email DL (Bytes)                          150001 non-null  float64\n",
      " 44  Email UL (Bytes)                          150001 non-null  float64\n",
      " 45  Youtube DL (Bytes)                        150001 non-null  float64\n",
      " 46  Youtube UL (Bytes)                        150001 non-null  float64\n",
      " 47  Netflix DL (Bytes)                        150001 non-null  float64\n",
      " 48  Netflix UL (Bytes)                        150001 non-null  float64\n",
      " 49  Gaming DL (Bytes)                         150001 non-null  float64\n",
      " 50  Gaming UL (Bytes)                         150001 non-null  float64\n",
      " 51  Other DL (Bytes)                          150001 non-null  float64\n",
      " 52  Other UL (Bytes)                          150001 non-null  float64\n",
      " 53  Total UL (Bytes)                          150001 non-null  float64\n",
      " 54  Total DL (Bytes)                          150001 non-null  float64\n",
      "dtypes: float64(50), object(5)\n",
      "memory usage: 62.9+ MB\n"
     ]
    }
   ],
   "source": [
    "# handdle the three columns NaN ['Last Location Name', 'Handset Manufacturer', 'Handset Type']\n",
    "# features with object data types [can not fill with mean]\n",
    "objectcols = ['Start', 'End', 'Last Location Name', 'Handset Manufacturer', 'Handset Type']\n",
    "\n",
    "new_data['Start'].fillna('4/29/2019 07:28', inplace = True)\n",
    "new_data['End'].fillna('4/30/2019 10:40', inplace = True)\n",
    "new_data['Last Location Name'].fillna('L88342B', inplace = True)\n",
    "new_data['Handset Manufacturer'].fillna('Samsung', inplace = True)\n",
    "new_data['Handset Type'].fillna('Samsung Galaxy A8 (2018)', inplace = True)\n",
    "\n",
    "new_data.info()"
   ]
  },
  {
   "cell_type": "markdown",
   "id": "0899c7ee",
   "metadata": {
    "papermill": {
     "duration": 0.072291,
     "end_time": "2022-03-08T14:52:22.484865",
     "exception": false,
     "start_time": "2022-03-08T14:52:22.412574",
     "status": "completed"
    },
    "tags": []
   },
   "source": [
    "**Analyze the basic metrics (mean, median, etc) in the Dataset (explain) & their importance for the global objective**"
   ]
  },
  {
   "cell_type": "code",
   "execution_count": 13,
   "id": "df2b219d",
   "metadata": {
    "execution": {
     "iopub.execute_input": "2022-03-08T14:52:22.635065Z",
     "iopub.status.busy": "2022-03-08T14:52:22.634354Z",
     "iopub.status.idle": "2022-03-08T14:53:18.873354Z",
     "shell.execute_reply": "2022-03-08T14:53:18.873937Z",
     "shell.execute_reply.started": "2022-03-08T14:42:46.067395Z"
    },
    "papermill": {
     "duration": 56.315869,
     "end_time": "2022-03-08T14:53:18.874130",
     "exception": false,
     "start_time": "2022-03-08T14:52:22.558261",
     "status": "completed"
    },
    "tags": []
   },
   "outputs": [
    {
     "name": "stderr",
     "output_type": "stream",
     "text": [
      "/opt/conda/lib/python3.7/site-packages/ipykernel_launcher.py:1: FutureWarning: Dropping of nuisance columns in DataFrame reductions (with 'numeric_only=None') is deprecated; in a future version this will raise TypeError.  Select only valid columns before calling the reduction.\n",
      "  \"\"\"Entry point for launching an IPython kernel.\n"
     ]
    },
    {
     "name": "stdout",
     "output_type": "stream",
     "text": [
      "Mean\n",
      " Bearer Id                                   1.013887e+19\n",
      "Start ms                                    4.991882e+02\n",
      "End ms                                      4.988009e+02\n",
      "Dur. (ms)                                   9.226114e+04\n",
      "IMSI                                        2.082017e+14\n",
      "MSISDN/Number                               4.188282e+10\n",
      "IMEI                                        4.847454e+13\n",
      "Avg RTT DL (ms)                             4.715318e+01\n",
      "Avg RTT UL (ms)                             7.887062e+00\n",
      "Avg Bearer TP DL (kbps)                     7.425817e+03\n",
      "Avg Bearer TP UL (kbps)                     3.663716e+02\n",
      "TCP DL Retrans. Vol (Bytes)                 1.311051e+06\n",
      "TCP UL Retrans. Vol (Bytes)                 3.371982e+04\n",
      "DL TP < 50 Kbps (%)                         9.700611e+01\n",
      "50 Kbps < DL TP < 250 Kbps (%)              1.215844e+00\n",
      "250 Kbps < DL TP < 1 Mbps (%)               1.781733e-01\n",
      "DL TP > 1 Mbps (%)                                   NaN\n",
      "UL TP < 10 Kbps (%)                         9.961971e+01\n",
      "10 Kbps < UL TP < 50 Kbps (%)                        NaN\n",
      "50 Kbps < UL TP < 300 Kbps (%)                       NaN\n",
      "UL TP > 300 Kbps (%)                                 NaN\n",
      "HTTP DL (Bytes)                             6.256620e+06\n",
      "HTTP UL (Bytes)                             5.151873e+05\n",
      "Activity Duration DL (ms)                   1.643265e+05\n",
      "Activity Duration UL (ms)                   1.571917e+05\n",
      "Dur. (ms).1                                 9.226168e+07\n",
      "Nb of sec with 125000B < Vol DL             2.504237e+02\n",
      "Nb of sec with 1250B < Vol UL < 6250B       8.375844e+01\n",
      "Nb of sec with 31250B < Vol DL < 125000B    3.120430e+02\n",
      "Nb of sec with 37500B < Vol UL              1.415106e+01\n",
      "Nb of sec with 6250B < Vol DL < 31250B      5.042005e+02\n",
      "Nb of sec with 6250B < Vol UL < 37500B      1.264969e+01\n",
      "Nb of sec with Vol DL < 6250B               7.554019e+02\n",
      "Nb of sec with Vol UL < 1250B               6.919591e+02\n",
      "Social Media DL (Bytes)                     1.795322e+06\n",
      "Social Media UL (Bytes)                     3.292843e+04\n",
      "Google DL (Bytes)                           5.750753e+06\n",
      "Google UL (Bytes)                           2.056542e+06\n",
      "Email DL (Bytes)                            1.791729e+06\n",
      "Email UL (Bytes)                            4.673734e+05\n",
      "Youtube DL (Bytes)                          1.163407e+07\n",
      "Youtube UL (Bytes)                          1.100941e+07\n",
      "Netflix DL (Bytes)                          1.162685e+07\n",
      "Netflix UL (Bytes)                          1.100175e+07\n",
      "Gaming DL (Bytes)                           4.220447e+08\n",
      "Gaming UL (Bytes)                           8.288398e+06\n",
      "Other DL (Bytes)                            4.211005e+08\n",
      "Other UL (Bytes)                            8.264799e+06\n",
      "Total UL (Bytes)                            4.111971e+07\n",
      "Total DL (Bytes)                            4.546434e+08\n",
      "dtype: float64\n",
      "Mode\n",
      "        Bearer Id            Start  Start ms              End  End ms  \\\n",
      "0   7.349880e+18  4/26/2019 07:25     341.0  4/25/2019 00:01   872.0   \n",
      "1            NaN              NaN       NaN              NaN     NaN   \n",
      "2            NaN              NaN       NaN              NaN     NaN   \n",
      "3            NaN              NaN       NaN              NaN     NaN   \n",
      "4            NaN              NaN       NaN              NaN     NaN   \n",
      "5            NaN              NaN       NaN              NaN     NaN   \n",
      "6            NaN              NaN       NaN              NaN     NaN   \n",
      "7            NaN              NaN       NaN              NaN     NaN   \n",
      "8            NaN              NaN       NaN              NaN     NaN   \n",
      "9            NaN              NaN       NaN              NaN     NaN   \n",
      "10           NaN              NaN       NaN              NaN     NaN   \n",
      "11           NaN              NaN       NaN              NaN     NaN   \n",
      "12           NaN              NaN       NaN              NaN     NaN   \n",
      "13           NaN              NaN       NaN              NaN     NaN   \n",
      "14           NaN              NaN       NaN              NaN     NaN   \n",
      "15           NaN              NaN       NaN              NaN     NaN   \n",
      "16           NaN              NaN       NaN              NaN     NaN   \n",
      "17           NaN              NaN       NaN              NaN     NaN   \n",
      "18           NaN              NaN       NaN              NaN     NaN   \n",
      "19           NaN              NaN       NaN              NaN     NaN   \n",
      "20           NaN              NaN       NaN              NaN     NaN   \n",
      "21           NaN              NaN       NaN              NaN     NaN   \n",
      "22           NaN              NaN       NaN              NaN     NaN   \n",
      "23           NaN              NaN       NaN              NaN     NaN   \n",
      "24           NaN              NaN       NaN              NaN     NaN   \n",
      "25           NaN              NaN       NaN              NaN     NaN   \n",
      "26           NaN              NaN       NaN              NaN     NaN   \n",
      "27           NaN              NaN       NaN              NaN     NaN   \n",
      "28           NaN              NaN       NaN              NaN     NaN   \n",
      "29           NaN              NaN       NaN              NaN     NaN   \n",
      "30           NaN              NaN       NaN              NaN     NaN   \n",
      "31           NaN              NaN       NaN              NaN     NaN   \n",
      "32           NaN              NaN       NaN              NaN     NaN   \n",
      "33           NaN              NaN       NaN              NaN     NaN   \n",
      "34           NaN              NaN       NaN              NaN     NaN   \n",
      "35           NaN              NaN       NaN              NaN     NaN   \n",
      "36           NaN              NaN       NaN              NaN     NaN   \n",
      "37           NaN              NaN       NaN              NaN     NaN   \n",
      "38           NaN              NaN       NaN              NaN     NaN   \n",
      "39           NaN              NaN       NaN              NaN     NaN   \n",
      "40           NaN              NaN       NaN              NaN     NaN   \n",
      "41           NaN              NaN       NaN              NaN     NaN   \n",
      "42           NaN              NaN       NaN              NaN     NaN   \n",
      "43           NaN              NaN       NaN              NaN     NaN   \n",
      "44           NaN              NaN       NaN              NaN     NaN   \n",
      "\n",
      "    Dur. (ms)          IMSI  MSISDN/Number          IMEI Last Location Name  \\\n",
      "0     86399.0  2.082020e+14   4.188282e+10  8.637690e+13        9.16457E+15   \n",
      "1         NaN           NaN            NaN           NaN                NaN   \n",
      "2         NaN           NaN            NaN           NaN                NaN   \n",
      "3         NaN           NaN            NaN           NaN                NaN   \n",
      "4         NaN           NaN            NaN           NaN                NaN   \n",
      "5         NaN           NaN            NaN           NaN                NaN   \n",
      "6         NaN           NaN            NaN           NaN                NaN   \n",
      "7         NaN           NaN            NaN           NaN                NaN   \n",
      "8         NaN           NaN            NaN           NaN                NaN   \n",
      "9         NaN           NaN            NaN           NaN                NaN   \n",
      "10        NaN           NaN            NaN           NaN                NaN   \n",
      "11        NaN           NaN            NaN           NaN                NaN   \n",
      "12        NaN           NaN            NaN           NaN                NaN   \n",
      "13        NaN           NaN            NaN           NaN                NaN   \n",
      "14        NaN           NaN            NaN           NaN                NaN   \n",
      "15        NaN           NaN            NaN           NaN                NaN   \n",
      "16        NaN           NaN            NaN           NaN                NaN   \n",
      "17        NaN           NaN            NaN           NaN                NaN   \n",
      "18        NaN           NaN            NaN           NaN                NaN   \n",
      "19        NaN           NaN            NaN           NaN                NaN   \n",
      "20        NaN           NaN            NaN           NaN                NaN   \n",
      "21        NaN           NaN            NaN           NaN                NaN   \n",
      "22        NaN           NaN            NaN           NaN                NaN   \n",
      "23        NaN           NaN            NaN           NaN                NaN   \n",
      "24        NaN           NaN            NaN           NaN                NaN   \n",
      "25        NaN           NaN            NaN           NaN                NaN   \n",
      "26        NaN           NaN            NaN           NaN                NaN   \n",
      "27        NaN           NaN            NaN           NaN                NaN   \n",
      "28        NaN           NaN            NaN           NaN                NaN   \n",
      "29        NaN           NaN            NaN           NaN                NaN   \n",
      "30        NaN           NaN            NaN           NaN                NaN   \n",
      "31        NaN           NaN            NaN           NaN                NaN   \n",
      "32        NaN           NaN            NaN           NaN                NaN   \n",
      "33        NaN           NaN            NaN           NaN                NaN   \n",
      "34        NaN           NaN            NaN           NaN                NaN   \n",
      "35        NaN           NaN            NaN           NaN                NaN   \n",
      "36        NaN           NaN            NaN           NaN                NaN   \n",
      "37        NaN           NaN            NaN           NaN                NaN   \n",
      "38        NaN           NaN            NaN           NaN                NaN   \n",
      "39        NaN           NaN            NaN           NaN                NaN   \n",
      "40        NaN           NaN            NaN           NaN                NaN   \n",
      "41        NaN           NaN            NaN           NaN                NaN   \n",
      "42        NaN           NaN            NaN           NaN                NaN   \n",
      "43        NaN           NaN            NaN           NaN                NaN   \n",
      "44        NaN           NaN            NaN           NaN                NaN   \n",
      "\n",
      "    ...  Youtube DL (Bytes)  Youtube UL (Bytes)  Netflix DL (Bytes)  \\\n",
      "0   ...          18869169.0           3398443.0           2097111.0   \n",
      "1   ...                 NaN                 NaN                 NaN   \n",
      "2   ...                 NaN                 NaN                 NaN   \n",
      "3   ...                 NaN                 NaN                 NaN   \n",
      "4   ...                 NaN                 NaN                 NaN   \n",
      "5   ...                 NaN                 NaN                 NaN   \n",
      "6   ...                 NaN                 NaN                 NaN   \n",
      "7   ...                 NaN                 NaN                 NaN   \n",
      "8   ...                 NaN                 NaN                 NaN   \n",
      "9   ...                 NaN                 NaN                 NaN   \n",
      "10  ...                 NaN                 NaN                 NaN   \n",
      "11  ...                 NaN                 NaN                 NaN   \n",
      "12  ...                 NaN                 NaN                 NaN   \n",
      "13  ...                 NaN                 NaN                 NaN   \n",
      "14  ...                 NaN                 NaN                 NaN   \n",
      "15  ...                 NaN                 NaN                 NaN   \n",
      "16  ...                 NaN                 NaN                 NaN   \n",
      "17  ...                 NaN                 NaN                 NaN   \n",
      "18  ...                 NaN                 NaN                 NaN   \n",
      "19  ...                 NaN                 NaN                 NaN   \n",
      "20  ...                 NaN                 NaN                 NaN   \n",
      "21  ...                 NaN                 NaN                 NaN   \n",
      "22  ...                 NaN                 NaN                 NaN   \n",
      "23  ...                 NaN                 NaN                 NaN   \n",
      "24  ...                 NaN                 NaN                 NaN   \n",
      "25  ...                 NaN                 NaN                 NaN   \n",
      "26  ...                 NaN                 NaN                 NaN   \n",
      "27  ...                 NaN                 NaN                 NaN   \n",
      "28  ...                 NaN                 NaN                 NaN   \n",
      "29  ...                 NaN                 NaN                 NaN   \n",
      "30  ...                 NaN                 NaN                 NaN   \n",
      "31  ...                 NaN                 NaN                 NaN   \n",
      "32  ...                 NaN                 NaN                 NaN   \n",
      "33  ...                 NaN                 NaN                 NaN   \n",
      "34  ...                 NaN                 NaN                 NaN   \n",
      "35  ...                 NaN                 NaN                 NaN   \n",
      "36  ...                 NaN                 NaN                 NaN   \n",
      "37  ...                 NaN                 NaN                 NaN   \n",
      "38  ...                 NaN                 NaN                 NaN   \n",
      "39  ...                 NaN                 NaN                 NaN   \n",
      "40  ...                 NaN                 NaN                 NaN   \n",
      "41  ...                 NaN                 NaN                 NaN   \n",
      "42  ...                 NaN                 NaN                 NaN   \n",
      "43  ...                 NaN                 NaN                 NaN   \n",
      "44  ...                 NaN                 NaN                 NaN   \n",
      "\n",
      "    Netflix UL (Bytes)  Gaming DL (Bytes)  Gaming UL (Bytes)  \\\n",
      "0            1751610.0         88731721.0         15304673.0   \n",
      "1                  NaN        102097914.0                NaN   \n",
      "2                  NaN        115304284.0                NaN   \n",
      "3                  NaN        137736955.0                NaN   \n",
      "4                  NaN        388832426.0                NaN   \n",
      "5                  NaN        389215541.0                NaN   \n",
      "6                  NaN        410597365.0                NaN   \n",
      "7                  NaN        419103564.0                NaN   \n",
      "8                  NaN        458437235.0                NaN   \n",
      "9                  NaN        481458626.0                NaN   \n",
      "10                 NaN        598441277.0                NaN   \n",
      "11                 NaN        638426312.0                NaN   \n",
      "12                 NaN        647606943.0                NaN   \n",
      "13                 NaN        686236137.0                NaN   \n",
      "14                 NaN        756135614.0                NaN   \n",
      "15                 NaN        765377138.0                NaN   \n",
      "16                 NaN        768107296.0                NaN   \n",
      "17                 NaN        798867494.0                NaN   \n",
      "18                 NaN                NaN                NaN   \n",
      "19                 NaN                NaN                NaN   \n",
      "20                 NaN                NaN                NaN   \n",
      "21                 NaN                NaN                NaN   \n",
      "22                 NaN                NaN                NaN   \n",
      "23                 NaN                NaN                NaN   \n",
      "24                 NaN                NaN                NaN   \n",
      "25                 NaN                NaN                NaN   \n",
      "26                 NaN                NaN                NaN   \n",
      "27                 NaN                NaN                NaN   \n",
      "28                 NaN                NaN                NaN   \n",
      "29                 NaN                NaN                NaN   \n",
      "30                 NaN                NaN                NaN   \n",
      "31                 NaN                NaN                NaN   \n",
      "32                 NaN                NaN                NaN   \n",
      "33                 NaN                NaN                NaN   \n",
      "34                 NaN                NaN                NaN   \n",
      "35                 NaN                NaN                NaN   \n",
      "36                 NaN                NaN                NaN   \n",
      "37                 NaN                NaN                NaN   \n",
      "38                 NaN                NaN                NaN   \n",
      "39                 NaN                NaN                NaN   \n",
      "40                 NaN                NaN                NaN   \n",
      "41                 NaN                NaN                NaN   \n",
      "42                 NaN                NaN                NaN   \n",
      "43                 NaN                NaN                NaN   \n",
      "44                 NaN                NaN                NaN   \n",
      "\n",
      "    Other DL (Bytes)  Other UL (Bytes)  Total UL (Bytes)  Total DL (Bytes)  \n",
      "0         28616268.0         4514572.0      4.111971e+07        74126119.0  \n",
      "1         46170315.0         8125986.0               NaN       141231552.0  \n",
      "2         50240263.0         8521566.0               NaN       253647896.0  \n",
      "3        108526358.0         9701036.0               NaN       280121305.0  \n",
      "4        141465209.0               NaN               NaN       437086910.0  \n",
      "5        158677901.0               NaN               NaN       445503876.0  \n",
      "6        160563292.0               NaN               NaN       490686409.0  \n",
      "7        175335616.0               NaN               NaN       505242724.0  \n",
      "8        249961323.0               NaN               NaN       595801454.0  \n",
      "9        495289909.0               NaN               NaN       636139550.0  \n",
      "10       497588213.0               NaN               NaN       786752997.0  \n",
      "11       600764022.0               NaN               NaN       845059828.0  \n",
      "12       626199661.0               NaN               NaN       873317432.0  \n",
      "13       647965070.0               NaN               NaN               NaN  \n",
      "14       737251017.0               NaN               NaN               NaN  \n",
      "15               NaN               NaN               NaN               NaN  \n",
      "16               NaN               NaN               NaN               NaN  \n",
      "17               NaN               NaN               NaN               NaN  \n",
      "18               NaN               NaN               NaN               NaN  \n",
      "19               NaN               NaN               NaN               NaN  \n",
      "20               NaN               NaN               NaN               NaN  \n",
      "21               NaN               NaN               NaN               NaN  \n",
      "22               NaN               NaN               NaN               NaN  \n",
      "23               NaN               NaN               NaN               NaN  \n",
      "24               NaN               NaN               NaN               NaN  \n",
      "25               NaN               NaN               NaN               NaN  \n",
      "26               NaN               NaN               NaN               NaN  \n",
      "27               NaN               NaN               NaN               NaN  \n",
      "28               NaN               NaN               NaN               NaN  \n",
      "29               NaN               NaN               NaN               NaN  \n",
      "30               NaN               NaN               NaN               NaN  \n",
      "31               NaN               NaN               NaN               NaN  \n",
      "32               NaN               NaN               NaN               NaN  \n",
      "33               NaN               NaN               NaN               NaN  \n",
      "34               NaN               NaN               NaN               NaN  \n",
      "35               NaN               NaN               NaN               NaN  \n",
      "36               NaN               NaN               NaN               NaN  \n",
      "37               NaN               NaN               NaN               NaN  \n",
      "38               NaN               NaN               NaN               NaN  \n",
      "39               NaN               NaN               NaN               NaN  \n",
      "40               NaN               NaN               NaN               NaN  \n",
      "41               NaN               NaN               NaN               NaN  \n",
      "42               NaN               NaN               NaN               NaN  \n",
      "43               NaN               NaN               NaN               NaN  \n",
      "44               NaN               NaN               NaN               NaN  \n",
      "\n",
      "[45 rows x 55 columns]\n",
      "Median\n",
      " Bearer Id                                   7.349880e+18\n",
      "Start ms                                    4.990000e+02\n",
      "End ms                                      5.000000e+02\n",
      "Dur. (ms)                                   8.639900e+04\n",
      "IMSI                                        2.082020e+14\n",
      "MSISDN/Number                               3.366380e+10\n",
      "IMEI                                        3.572240e+13\n",
      "Avg RTT DL (ms)                             4.715318e+01\n",
      "Avg RTT UL (ms)                             7.000000e+00\n",
      "Avg Bearer TP DL (kbps)                     6.300000e+01\n",
      "Avg Bearer TP UL (kbps)                     6.300000e+01\n",
      "TCP DL Retrans. Vol (Bytes)                 1.311051e+06\n",
      "TCP UL Retrans. Vol (Bytes)                 3.371982e+04\n",
      "DL TP < 50 Kbps (%)                         1.000000e+02\n",
      "50 Kbps < DL TP < 250 Kbps (%)              0.000000e+00\n",
      "250 Kbps < DL TP < 1 Mbps (%)               0.000000e+00\n",
      "DL TP > 1 Mbps (%)                                   NaN\n",
      "UL TP < 10 Kbps (%)                         1.000000e+02\n",
      "10 Kbps < UL TP < 50 Kbps (%)                        NaN\n",
      "50 Kbps < UL TP < 300 Kbps (%)                       NaN\n",
      "UL TP > 300 Kbps (%)                                 NaN\n",
      "HTTP DL (Bytes)                             6.256620e+06\n",
      "HTTP UL (Bytes)                             5.151873e+05\n",
      "Activity Duration DL (ms)                   3.930500e+04\n",
      "Activity Duration UL (ms)                   4.679400e+04\n",
      "Dur. (ms).1                                 8.639998e+07\n",
      "Nb of sec with 125000B < Vol DL             2.504237e+02\n",
      "Nb of sec with 1250B < Vol UL < 6250B       8.375844e+01\n",
      "Nb of sec with 31250B < Vol DL < 125000B    3.120430e+02\n",
      "Nb of sec with 37500B < Vol UL              1.415106e+01\n",
      "Nb of sec with 6250B < Vol DL < 31250B      5.042005e+02\n",
      "Nb of sec with 6250B < Vol UL < 37500B      1.264969e+01\n",
      "Nb of sec with Vol DL < 6250B               2.050000e+02\n",
      "Nb of sec with Vol UL < 1250B               2.200000e+02\n",
      "Social Media DL (Bytes)                     1.794369e+06\n",
      "Social Media UL (Bytes)                     3.292000e+04\n",
      "Google DL (Bytes)                           5.765829e+06\n",
      "Google UL (Bytes)                           2.054573e+06\n",
      "Email DL (Bytes)                            1.793505e+06\n",
      "Email UL (Bytes)                            4.662500e+05\n",
      "Youtube DL (Bytes)                          1.161602e+07\n",
      "Youtube UL (Bytes)                          1.101345e+07\n",
      "Netflix DL (Bytes)                          1.164222e+07\n",
      "Netflix UL (Bytes)                          1.099638e+07\n",
      "Gaming DL (Bytes)                           4.234081e+08\n",
      "Gaming UL (Bytes)                           8.291208e+06\n",
      "Other DL (Bytes)                            4.218030e+08\n",
      "Other UL (Bytes)                            8.267071e+06\n",
      "Total UL (Bytes)                            4.111971e+07\n",
      "Total DL (Bytes)                            4.558409e+08\n",
      "dtype: float64\n"
     ]
    },
    {
     "name": "stderr",
     "output_type": "stream",
     "text": [
      "/opt/conda/lib/python3.7/site-packages/ipykernel_launcher.py:3: FutureWarning: Dropping of nuisance columns in DataFrame reductions (with 'numeric_only=None') is deprecated; in a future version this will raise TypeError.  Select only valid columns before calling the reduction.\n",
      "  This is separate from the ipykernel package so we can avoid doing imports until\n"
     ]
    },
    {
     "name": "stdout",
     "output_type": "stream",
     "text": [
      "Higest\n",
      " Bearer Id                                   13186500000000000000.0\n",
      "Start                                               4/9/2019 17:42\n",
      "Start ms                                                     999.0\n",
      "End                                                4/30/2019 23:59\n",
      "End ms                                                       999.0\n",
      "Dur. (ms)                                                 244900.0\n",
      "IMSI                                             214074000000000.0\n",
      "MSISDN/Number                                    882397000000000.0\n",
      "IMEI                                              99001200000000.0\n",
      "Last Location Name                                         Y72157C\n",
      "Avg RTT DL (ms)                                              126.0\n",
      "Avg RTT UL (ms)                                               34.0\n",
      "Avg Bearer TP DL (kbps)                                    49211.0\n",
      "Avg Bearer TP UL (kbps)                                     2729.0\n",
      "TCP DL Retrans. Vol (Bytes)                              9365124.0\n",
      "TCP UL Retrans. Vol (Bytes)                               203003.0\n",
      "DL TP < 50 Kbps (%)                                          100.0\n",
      "50 Kbps < DL TP < 250 Kbps (%)                                 9.0\n",
      "250 Kbps < DL TP < 1 Mbps (%)                                  2.0\n",
      "DL TP > 1 Mbps (%)                                             NaN\n",
      "UL TP < 10 Kbps (%)                                          100.0\n",
      "10 Kbps < UL TP < 50 Kbps (%)                                  NaN\n",
      "50 Kbps < UL TP < 300 Kbps (%)                                 NaN\n",
      "UL TP > 300 Kbps (%)                                           NaN\n",
      "HTTP DL (Bytes)                                         62431581.0\n",
      "HTTP UL (Bytes)                                          3820189.0\n",
      "Activity Duration DL (ms)                                1676451.0\n",
      "Activity Duration UL (ms)                                1465401.0\n",
      "Dur. (ms).1                                            244900015.0\n",
      "Handset Manufacturer                                     undefined\n",
      "Handset Type                                             undefined\n",
      "Nb of sec with 125000B < Vol DL                             1703.0\n",
      "Nb of sec with 1250B < Vol UL < 6250B                        492.0\n",
      "Nb of sec with 31250B < Vol DL < 125000B                    1853.0\n",
      "Nb of sec with 37500B < Vol UL                                84.0\n",
      "Nb of sec with 6250B < Vol DL < 31250B                      2671.0\n",
      "Nb of sec with 6250B < Vol UL < 37500B                        72.0\n",
      "Nb of sec with Vol DL < 6250B                               6494.0\n",
      "Nb of sec with Vol UL < 1250B                               5968.0\n",
      "Social Media DL (Bytes)                                  3586064.0\n",
      "Social Media UL (Bytes)                                    65870.0\n",
      "Google DL (Bytes)                                       11462832.0\n",
      "Google UL (Bytes)                                        4121357.0\n",
      "Email DL (Bytes)                                         3586146.0\n",
      "Email UL (Bytes)                                          936418.0\n",
      "Youtube DL (Bytes)                                      23259098.0\n",
      "Youtube UL (Bytes)                                      22011962.0\n",
      "Netflix DL (Bytes)                                      23259189.0\n",
      "Netflix UL (Bytes)                                      22011955.0\n",
      "Gaming DL (Bytes)                                      843441889.0\n",
      "Gaming UL (Bytes)                                       16558794.0\n",
      "Other DL (Bytes)                                       843442489.0\n",
      "Other UL (Bytes)                                        16558816.0\n",
      "Total UL (Bytes)                                        72714752.0\n",
      "Total DL (Bytes)                                       902969616.0\n",
      "dtype: object\n",
      "lowest\n",
      " Bearer Id                                                     6917540000000000000.0\n",
      "Start                                                               4/10/2019 00:31\n",
      "Start ms                                                                        0.0\n",
      "End                                                                 4/24/2019 22:59\n",
      "End ms                                                                          0.0\n",
      "Dur. (ms)                                                                    7142.0\n",
      "IMSI                                                              204047000000000.0\n",
      "MSISDN/Number                                                         33601001722.0\n",
      "IMEI                                                                 440015000000.0\n",
      "Last Location Name                                                       1.5328E+17\n",
      "Avg RTT DL (ms)                                                                 0.0\n",
      "Avg RTT UL (ms)                                                                 0.0\n",
      "Avg Bearer TP DL (kbps)                                                         0.0\n",
      "Avg Bearer TP UL (kbps)                                                         0.0\n",
      "TCP DL Retrans. Vol (Bytes)                                                     2.0\n",
      "TCP UL Retrans. Vol (Bytes)                                                     1.0\n",
      "DL TP < 50 Kbps (%)                                                            78.0\n",
      "50 Kbps < DL TP < 250 Kbps (%)                                                  0.0\n",
      "250 Kbps < DL TP < 1 Mbps (%)                                                   0.0\n",
      "DL TP > 1 Mbps (%)                                                              NaN\n",
      "UL TP < 10 Kbps (%)                                                            98.0\n",
      "10 Kbps < UL TP < 50 Kbps (%)                                                   NaN\n",
      "50 Kbps < UL TP < 300 Kbps (%)                                                  NaN\n",
      "UL TP > 300 Kbps (%)                                                            NaN\n",
      "HTTP DL (Bytes)                                                                40.0\n",
      "HTTP UL (Bytes)                                                                40.0\n",
      "Activity Duration DL (ms)                                                       0.0\n",
      "Activity Duration UL (ms)                                                       0.0\n",
      "Dur. (ms).1                                                               7142988.0\n",
      "Handset Manufacturer                        A-Link Telecom International Co Limited\n",
      "Handset Type                                             A-Link Telecom I. Cubot A5\n",
      "Nb of sec with 125000B < Vol DL                                                 1.0\n",
      "Nb of sec with 1250B < Vol UL < 6250B                                           1.0\n",
      "Nb of sec with 31250B < Vol DL < 125000B                                        1.0\n",
      "Nb of sec with 37500B < Vol UL                                                  1.0\n",
      "Nb of sec with 6250B < Vol DL < 31250B                                          1.0\n",
      "Nb of sec with 6250B < Vol UL < 37500B                                          1.0\n",
      "Nb of sec with Vol DL < 6250B                                                   1.0\n",
      "Nb of sec with Vol UL < 1250B                                                   1.0\n",
      "Social Media DL (Bytes)                                                        12.0\n",
      "Social Media UL (Bytes)                                                         0.0\n",
      "Google DL (Bytes)                                                             207.0\n",
      "Google UL (Bytes)                                                               3.0\n",
      "Email DL (Bytes)                                                               14.0\n",
      "Email UL (Bytes)                                                                2.0\n",
      "Youtube DL (Bytes)                                                             53.0\n",
      "Youtube UL (Bytes)                                                            105.0\n",
      "Netflix DL (Bytes)                                                             42.0\n",
      "Netflix UL (Bytes)                                                             35.0\n",
      "Gaming DL (Bytes)                                                            2516.0\n",
      "Gaming UL (Bytes)                                                              59.0\n",
      "Other DL (Bytes)                                                             3290.0\n",
      "Other UL (Bytes)                                                              148.0\n",
      "Total UL (Bytes)                                                          9512288.0\n",
      "Total DL (Bytes)                                                          7114041.0\n",
      "dtype: object\n"
     ]
    }
   ],
   "source": [
    "print(\"Mean\\n\", new_data.mean())\n",
    "print(\"Mode\\n\", new_data.mode())\n",
    "print(\"Median\\n\", new_data.median())\n",
    "print(\"Higest\\n\", new_data.max())\n",
    "print(\"lowest\\n\", new_data.min())"
   ]
  },
  {
   "cell_type": "markdown",
   "id": "935532db",
   "metadata": {
    "papermill": {
     "duration": 0.075578,
     "end_time": "2022-03-08T14:53:19.026324",
     "exception": false,
     "start_time": "2022-03-08T14:53:18.950746",
     "status": "completed"
    },
    "tags": []
   },
   "source": [
    "**Conduct a Non-Graphical Univariate Analysis by computing dispersion parameters for each quantitative variable and provide useful interpretation.**"
   ]
  },
  {
   "cell_type": "code",
   "execution_count": 14,
   "id": "b84a10b5",
   "metadata": {
    "execution": {
     "iopub.execute_input": "2022-03-08T14:53:19.186005Z",
     "iopub.status.busy": "2022-03-08T14:53:19.185255Z",
     "iopub.status.idle": "2022-03-08T14:54:37.257791Z",
     "shell.execute_reply": "2022-03-08T14:54:37.258665Z",
     "shell.execute_reply.started": "2022-03-08T14:43:41.317836Z"
    },
    "papermill": {
     "duration": 78.156121,
     "end_time": "2022-03-08T14:54:37.258914",
     "exception": false,
     "start_time": "2022-03-08T14:53:19.102793",
     "status": "completed"
    },
    "tags": []
   },
   "outputs": [
    {
     "name": "stdout",
     "output_type": "stream",
     "text": [
      "Bearer Id\n",
      "Mean 1.0138871842091147e+19\n",
      "Median 7.34988e+18\n",
      "Variance 8.315129806793902e+36\n",
      "St. Dev 2.883596678940018e+18\n",
      "Skew 0.026755271770665487\n",
      "\n",
      "Start ms\n",
      "Mean 499.1882\n",
      "Median 499.0\n",
      "Variance 83296.23555409333\n",
      "St. Dev 288.6108722035491\n",
      "Skew 0.0009684377791112438\n",
      "\n",
      "End ms\n",
      "Mean 498.80088\n",
      "Median 500.0\n",
      "Variance 82999.70444455893\n",
      "St. Dev 288.0966928733458\n",
      "Skew -0.0011626339140594255\n",
      "\n",
      "Dur. (ms)\n",
      "Mean 92261.13672837778\n",
      "Median 86399.0\n",
      "Variance 2428366608.116927\n",
      "St. Dev 49278.4598797175\n",
      "Skew 0.6202326545524955\n",
      "\n",
      "IMSI\n",
      "Mean 208201691804243.44\n",
      "Median 208202000000000.0\n",
      "Variance 4.60188855684385e+20\n",
      "St. Dev 21452012858.573086\n",
      "Skew 41.07096185812767\n",
      "\n",
      "MSISDN/Number\n",
      "Mean 41882818562.27001\n",
      "Median 33663797508.0\n",
      "Variance 5.947408766989616e+24\n",
      "St. Dev 2438730974705.8237\n",
      "Skew 333.34241178048296\n",
      "\n",
      "IMEI\n",
      "Mean 48474540644914.91\n",
      "Median 35722400000000.0\n",
      "Variance 5.005776566970941e+26\n",
      "St. Dev 22373592842838.05\n",
      "Skew 1.0735186878648604\n",
      "\n",
      "Avg RTT DL (ms)\n",
      "Mean 47.15318435650716\n",
      "Median 47.15318435650716\n",
      "Variance 366.02971451706014\n",
      "St. Dev 19.131903055291183\n",
      "Skew 1.3579278392065275\n",
      "\n",
      "Avg RTT UL (ms)\n",
      "Mean 7.887062174391145\n",
      "Median 7.0\n",
      "Variance 48.34215259363413\n",
      "St. Dev 6.9528521193560655\n",
      "Skew 1.7597710202674166\n",
      "\n",
      "Avg Bearer TP DL (kbps)\n",
      "Mean 7425.817491189331\n",
      "Median 63.0\n",
      "Variance 155023968.34695598\n",
      "St. Dev 12450.862152756972\n",
      "Skew 1.7557334162007985\n",
      "\n",
      "Avg Bearer TP UL (kbps)\n",
      "Mean 366.37156823825205\n",
      "Median 63.0\n",
      "Variance 305593.50272126764\n",
      "St. Dev 552.8051218298069\n",
      "Skew 2.1898390766307787\n",
      "\n",
      "TCP DL Retrans. Vol (Bytes)\n",
      "Mean 1311050.9699449937\n",
      "Median 1311050.9699449937\n",
      "Variance 1474223453235.4922\n",
      "St. Dev 1214176.0388162385\n",
      "Skew 3.3175459165858627\n",
      "\n",
      "TCP UL Retrans. Vol (Bytes)\n",
      "Mean 33719.82390963698\n",
      "Median 33719.82390963698\n",
      "Variance 593588217.103655\n",
      "St. Dev 24363.6659208678\n",
      "Skew 3.2718187784103896\n",
      "\n",
      "DL TP < 50 Kbps (%)\n",
      "Mean 97.00611176897513\n",
      "Median 100.0\n",
      "Variance 27.455820737232134\n",
      "St. Dev 5.239830220267841\n",
      "Skew -2.03028734522148\n",
      "\n",
      "50 Kbps < DL TP < 250 Kbps (%)\n",
      "Mean 1.2158437618505877\n",
      "Median 0.0\n",
      "Variance 4.9236820158766275\n",
      "St. Dev 2.2189371365310526\n",
      "Skew 2.04557346748372\n",
      "\n",
      "250 Kbps < DL TP < 1 Mbps (%)\n",
      "Mean 0.1781733279775055\n",
      "Median 0.0\n",
      "Variance 0.20317007782687285\n",
      "St. Dev 0.4507439160175907\n",
      "Skew 3.1492324330224717\n",
      "\n",
      "DL TP > 1 Mbps (%)\n",
      "Mean nan\n",
      "Median nan\n",
      "Variance nan\n",
      "St. Dev nan\n",
      "Skew nan\n",
      "\n",
      "UL TP < 10 Kbps (%)\n",
      "Mean 99.61970634058827\n",
      "Median 100.0\n",
      "Variance 0.3717627162708717\n",
      "St. Dev 0.6097234752499462\n",
      "Skew -1.6223862515666796\n",
      "\n",
      "10 Kbps < UL TP < 50 Kbps (%)\n",
      "Mean nan\n",
      "Median nan\n",
      "Variance nan\n",
      "St. Dev nan\n",
      "Skew nan\n",
      "\n",
      "50 Kbps < UL TP < 300 Kbps (%)\n",
      "Mean nan\n",
      "Median nan\n",
      "Variance nan\n",
      "St. Dev nan\n",
      "Skew nan\n",
      "\n",
      "UL TP > 300 Kbps (%)\n",
      "Mean nan\n",
      "Median nan\n",
      "Variance nan\n",
      "St. Dev nan\n",
      "Skew nan\n",
      "\n",
      "HTTP DL (Bytes)\n",
      "Mean 6256620.476591577\n",
      "Median 6256620.476591577\n",
      "Variance 55311451522150.016\n",
      "St. Dev 7437166.901592973\n",
      "Skew 4.3062236007308785\n",
      "\n",
      "HTTP UL (Bytes)\n",
      "Mean 515187.28430490167\n",
      "Median 515187.28430490167\n",
      "Variance 253678340718.8781\n",
      "St. Dev 503664.909159729\n",
      "Skew 3.3401864133011174\n",
      "\n",
      "Activity Duration DL (ms)\n",
      "Mean 164326.45995248944\n",
      "Median 39305.0\n",
      "Variance 89487563090.67339\n",
      "St. Dev 299144.719309356\n",
      "Skew 2.945767667693085\n",
      "\n",
      "Activity Duration UL (ms)\n",
      "Mean 157191.73092806787\n",
      "Median 46794.0\n",
      "Variance 71248963351.94943\n",
      "St. Dev 266925.0144740081\n",
      "Skew 2.8364526644491033\n",
      "\n",
      "Dur. (ms).1\n",
      "Mean 92261684.1381848\n",
      "Median 86399983.0\n",
      "Variance 2428366051231616.0\n",
      "St. Dev 49278454.22932436\n",
      "Skew 0.6202301443980862\n",
      "\n",
      "Nb of sec with 125000B < Vol DL\n",
      "Mean 250.42368756001162\n",
      "Median 250.42368756001162\n",
      "Variance 40452.89783301491\n",
      "St. Dev 201.12905765456892\n",
      "Skew 3.596605394841143\n",
      "\n",
      "Nb of sec with 1250B < Vol UL < 6250B\n",
      "Mean 83.75843794708526\n",
      "Median 83.75843794708526\n",
      "Variance 3896.3489210273974\n",
      "St. Dev 62.420741112449136\n",
      "Skew 2.99453116189181\n",
      "\n",
      "Nb of sec with 31250B < Vol DL < 125000B\n",
      "Mean 312.0429574056147\n",
      "Median 312.0429574056147\n",
      "Variance 60178.91975000483\n",
      "St. Dev 245.31392082392068\n",
      "Skew 2.9836485878975187\n",
      "\n",
      "Nb of sec with 37500B < Vol UL\n",
      "Mean 14.151055987831276\n",
      "Median 14.151055987831276\n",
      "Variance 38.1446931562628\n",
      "St. Dev 6.176139016915244\n",
      "Skew 5.460907333528547\n",
      "\n",
      "Nb of sec with 6250B < Vol DL < 31250B\n",
      "Mean 504.2005017921147\n",
      "Median 504.2005017921147\n",
      "Variance 152072.907378573\n",
      "St. Dev 389.9652643230843\n",
      "Skew 2.443414416569847\n",
      "\n",
      "Nb of sec with 6250B < Vol UL < 37500B\n",
      "Mean 12.649692067285596\n",
      "Median 12.649692067285596\n",
      "Variance 51.62989286270184\n",
      "St. Dev 7.185394412466294\n",
      "Skew 3.8613023338964756\n",
      "\n",
      "Nb of sec with Vol DL < 6250B\n",
      "Mean 755.4018620391012\n",
      "Median 205.0\n",
      "Variance 1546109.7142299174\n",
      "St. Dev 1243.4266018667597\n",
      "Skew 2.6374254744859424\n",
      "\n",
      "Nb of sec with Vol UL < 1250B\n",
      "Mean 691.9590903961179\n",
      "Median 220.0\n",
      "Variance 1225454.7419425584\n",
      "St. Dev 1107.0025934669522\n",
      "Skew 2.7242426148996204\n",
      "\n",
      "Social Media DL (Bytes)\n",
      "Mean 1795321.773646669\n",
      "Median 1794369.0\n",
      "Variance 1072223543812.8096\n",
      "St. Dev 1035482.2759530023\n",
      "Skew -0.0021362393136854893\n",
      "\n",
      "Social Media UL (Bytes)\n",
      "Mean 32928.43438\n",
      "Median 32920.0\n",
      "Variance 361234811.9069474\n",
      "St. Dev 19006.178256213094\n",
      "Skew -0.00035925291932168693\n",
      "\n",
      "Google DL (Bytes)\n",
      "Mean 5750752.619286665\n",
      "Median 5765829.0\n",
      "Variance 10950123070358.312\n",
      "St. Dev 3309097.0173686827\n",
      "Skew -0.008092347926325533\n",
      "\n",
      "Google UL (Bytes)\n",
      "Mean 2056541.9262866648\n",
      "Median 2054573.0\n",
      "Variance 1415902290791.0505\n",
      "St. Dev 1189916.9260041015\n",
      "Skew 0.0022156581577264032\n",
      "\n",
      "Email DL (Bytes)\n",
      "Mean 1791728.86802\n",
      "Median 1793505.0\n",
      "Variance 1072963491174.8252\n",
      "St. Dev 1035839.5103368211\n",
      "Skew -0.0024631963149958987\n",
      "\n",
      "Email UL (Bytes)\n",
      "Mean 467373.44193999976\n",
      "Median 466250.0\n",
      "Variance 72883426738.8103\n",
      "St. Dev 269969.30703102215\n",
      "Skew 0.007357611954582167\n",
      "\n",
      "Youtube DL (Bytes)\n",
      "Mean 11634072.503899975\n",
      "Median 11616019.0\n",
      "Variance 45031734293136.375\n",
      "St. Dev 6710568.850189704\n",
      "Skew 0.00023117977741761903\n",
      "\n",
      "Youtube UL (Bytes)\n",
      "Mean 11009410.134699969\n",
      "Median 11013447.0\n",
      "Variance 40264397547523.69\n",
      "St. Dev 6345423.354475546\n",
      "Skew -0.0011424288124854281\n",
      "\n",
      "Netflix DL (Bytes)\n",
      "Mean 11626851.718740009\n",
      "Median 11642217.0\n",
      "Variance 45228557503873.89\n",
      "St. Dev 6725218.026493557\n",
      "Skew -0.002442364669743921\n",
      "\n",
      "Netflix UL (Bytes)\n",
      "Mean 11001754.819640003\n",
      "Median 10996384.0\n",
      "Variance 40443110000861.87\n",
      "St. Dev 6359489.759474565\n",
      "Skew -0.00011292378115054738\n",
      "\n",
      "Gaming DL (Bytes)\n",
      "Mean 422044702.5953734\n",
      "Median 423408104.0\n",
      "Variance 5.95201382976501e+16\n",
      "St. Dev 243967494.34637824\n",
      "Skew -0.003459599220413018\n",
      "\n",
      "Gaming UL (Bytes)\n",
      "Mean 8288398.110733335\n",
      "Median 8291208.0\n",
      "Variance 22874216001717.57\n",
      "St. Dev 4782699.656231569\n",
      "Skew -0.0018402756136208758\n",
      "\n",
      "Other DL (Bytes)\n",
      "Mean 421100544.19449335\n",
      "Median 421803006.0\n",
      "Variance 5.914867679578479e+16\n",
      "St. Dev 243205009.80815506\n",
      "Skew 0.0014002337843244945\n",
      "\n",
      "Other UL (Bytes)\n",
      "Mean 8264799.424426664\n",
      "Median 8267071.0\n",
      "Variance 22743396160926.5\n",
      "St. Dev 4769003.686403115\n",
      "Skew 0.0013919082366748846\n",
      "\n",
      "Total UL (Bytes)\n",
      "Mean 41119711.310910344\n",
      "Median 41119711.310910344\n",
      "Variance 125375433501155.7\n",
      "St. Dev 11197117.196008788\n",
      "Skew -0.0031881326490210255\n",
      "\n",
      "Total DL (Bytes)\n",
      "Mean 454643430.0789667\n",
      "Median 455840911.0\n",
      "Variance 5.9605345737093096e+16\n",
      "St. Dev 244142060.56534603\n",
      "Skew -0.0031533741759930873\n",
      "\n"
     ]
    }
   ],
   "source": [
    "# statistics module for descriptive statistics, we could also use pandas\n",
    "import statistics as st\n",
    "\n",
    "for d in tocleancols:\n",
    "    print(d)\n",
    "    # mean\n",
    "    print(\"Mean\", st.mean(new_data[d]))\n",
    "    \n",
    "    # mode - most common value\n",
    "    #print(\"Mode\", st.mode(new_data[d]))\n",
    "    \n",
    "    # median - the center value\n",
    "    print(\"Median\", st.median(new_data[d]))\n",
    "    \n",
    "    # variance\n",
    "    print(\"Variance\", st.variance(new_data[d]))\n",
    "\n",
    "    # standard deviation\n",
    "    print(\"St. Dev\", st.stdev(new_data[d]))\n",
    "    \n",
    "    # skew\n",
    "    # A value less than -1 is skewed to the left; that greater than 1 is skewed to the right. A value between -1 and 1 is symmetric.\n",
    "    print(\"Skew\", new_data[d].skew())\n",
    "    print()"
   ]
  },
  {
   "cell_type": "markdown",
   "id": "6ee30743",
   "metadata": {
    "papermill": {
     "duration": 0.127545,
     "end_time": "2022-03-08T14:54:37.516781",
     "exception": false,
     "start_time": "2022-03-08T14:54:37.389236",
     "status": "completed"
    },
    "tags": []
   },
   "source": [
    "**Conduct a Graphical Univariate Analysis by identifying the most suitable plotting options for each variable and interpret your findings.**"
   ]
  },
  {
   "cell_type": "code",
   "execution_count": null,
   "id": "92db728a",
   "metadata": {
    "papermill": {
     "duration": 0.128055,
     "end_time": "2022-03-08T14:54:37.773339",
     "exception": false,
     "start_time": "2022-03-08T14:54:37.645284",
     "status": "completed"
    },
    "tags": []
   },
   "outputs": [],
   "source": []
  }
 ],
 "metadata": {
  "kernelspec": {
   "display_name": "Python 3",
   "language": "python",
   "name": "python3"
  },
  "language_info": {
   "codemirror_mode": {
    "name": "ipython",
    "version": 3
   },
   "file_extension": ".py",
   "mimetype": "text/x-python",
   "name": "python",
   "nbconvert_exporter": "python",
   "pygments_lexer": "ipython3",
   "version": "3.7.12"
  },
  "papermill": {
   "default_parameters": {},
   "duration": 175.801308,
   "end_time": "2022-03-08T14:54:38.917479",
   "environment_variables": {},
   "exception": null,
   "input_path": "__notebook__.ipynb",
   "output_path": "__notebook__.ipynb",
   "parameters": {},
   "start_time": "2022-03-08T14:51:43.116171",
   "version": "2.3.3"
  }
 },
 "nbformat": 4,
 "nbformat_minor": 5
}
